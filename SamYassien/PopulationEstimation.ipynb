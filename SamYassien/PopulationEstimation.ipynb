{
 "cells": [
  {
   "cell_type": "markdown",
   "id": "4121f623-b6b5-4a9b-b041-032f038fdf0b",
   "metadata": {
    "jp-MarkdownHeadingCollapsed": true,
    "tags": []
   },
   "source": [
    "##### Author: Sam Yassien\n",
    "##### CS 7394"
   ]
  },
  {
   "cell_type": "markdown",
   "id": "bc0138ef-34c4-48a3-a1fc-dfc49a310d93",
   "metadata": {},
   "source": [
    "# Imports"
   ]
  },
  {
   "cell_type": "code",
   "execution_count": 1,
   "id": "4ae680ca-d541-4dfd-88b8-b511658eaeae",
   "metadata": {},
   "outputs": [],
   "source": [
    "import pandas as pd\n",
    "import numpy as np\n",
    "from sklearn.linear_model import LinearRegression\n",
    "import warnings\n",
    "warnings.filterwarnings('ignore')"
   ]
  },
  {
   "cell_type": "markdown",
   "id": "e49682e5-4911-47a9-bda2-498c663ba37a",
   "metadata": {},
   "source": [
    "# Data Processing\n",
    "Source: World Bank (https://data.worldbank.org/indicator/SP.POP.TOTL)"
   ]
  },
  {
   "cell_type": "code",
   "execution_count": 2,
   "id": "ac04e0c7-8e55-45ca-a97d-1dabff7a48d6",
   "metadata": {},
   "outputs": [
    {
     "data": {
      "text/html": [
       "<div>\n",
       "<style scoped>\n",
       "    .dataframe tbody tr th:only-of-type {\n",
       "        vertical-align: middle;\n",
       "    }\n",
       "\n",
       "    .dataframe tbody tr th {\n",
       "        vertical-align: top;\n",
       "    }\n",
       "\n",
       "    .dataframe thead th {\n",
       "        text-align: right;\n",
       "    }\n",
       "</style>\n",
       "<table border=\"1\" class=\"dataframe\">\n",
       "  <thead>\n",
       "    <tr style=\"text-align: right;\">\n",
       "      <th></th>\n",
       "      <th>Country Name</th>\n",
       "      <th>1960</th>\n",
       "      <th>1961</th>\n",
       "      <th>1962</th>\n",
       "      <th>1963</th>\n",
       "      <th>1964</th>\n",
       "      <th>1965</th>\n",
       "      <th>1966</th>\n",
       "      <th>1967</th>\n",
       "      <th>1968</th>\n",
       "      <th>...</th>\n",
       "      <th>2011</th>\n",
       "      <th>2012</th>\n",
       "      <th>2013</th>\n",
       "      <th>2014</th>\n",
       "      <th>2015</th>\n",
       "      <th>2016</th>\n",
       "      <th>2017</th>\n",
       "      <th>2018</th>\n",
       "      <th>2019</th>\n",
       "      <th>2020</th>\n",
       "    </tr>\n",
       "  </thead>\n",
       "  <tbody>\n",
       "    <tr>\n",
       "      <th>0</th>\n",
       "      <td>Afghanistan</td>\n",
       "      <td>8996967.0</td>\n",
       "      <td>9169406.0</td>\n",
       "      <td>9351442.0</td>\n",
       "      <td>9543200.0</td>\n",
       "      <td>9744772.0</td>\n",
       "      <td>9956318.0</td>\n",
       "      <td>10174840.0</td>\n",
       "      <td>10399936.0</td>\n",
       "      <td>10637064.0</td>\n",
       "      <td>...</td>\n",
       "      <td>30117411</td>\n",
       "      <td>31161378.0</td>\n",
       "      <td>32269592.0</td>\n",
       "      <td>33370804.0</td>\n",
       "      <td>34413603.0</td>\n",
       "      <td>35383028.0</td>\n",
       "      <td>36296111.0</td>\n",
       "      <td>37171922.0</td>\n",
       "      <td>38041757.0</td>\n",
       "      <td>38928341.0</td>\n",
       "    </tr>\n",
       "    <tr>\n",
       "      <th>1</th>\n",
       "      <td>Albania</td>\n",
       "      <td>1608800.0</td>\n",
       "      <td>1659800.0</td>\n",
       "      <td>1711319.0</td>\n",
       "      <td>1762621.0</td>\n",
       "      <td>1814135.0</td>\n",
       "      <td>1864791.0</td>\n",
       "      <td>1914573.0</td>\n",
       "      <td>1965598.0</td>\n",
       "      <td>2022272.0</td>\n",
       "      <td>...</td>\n",
       "      <td>2905195</td>\n",
       "      <td>2900401.0</td>\n",
       "      <td>2895092.0</td>\n",
       "      <td>2889104.0</td>\n",
       "      <td>2880703.0</td>\n",
       "      <td>2876101.0</td>\n",
       "      <td>2873457.0</td>\n",
       "      <td>2866376.0</td>\n",
       "      <td>2854191.0</td>\n",
       "      <td>2837743.0</td>\n",
       "    </tr>\n",
       "    <tr>\n",
       "      <th>2</th>\n",
       "      <td>Algeria</td>\n",
       "      <td>11057864.0</td>\n",
       "      <td>11336336.0</td>\n",
       "      <td>11619828.0</td>\n",
       "      <td>11912800.0</td>\n",
       "      <td>12221675.0</td>\n",
       "      <td>12550880.0</td>\n",
       "      <td>12902626.0</td>\n",
       "      <td>13275020.0</td>\n",
       "      <td>13663581.0</td>\n",
       "      <td>...</td>\n",
       "      <td>36661438</td>\n",
       "      <td>37383899.0</td>\n",
       "      <td>38140135.0</td>\n",
       "      <td>38923688.0</td>\n",
       "      <td>39728020.0</td>\n",
       "      <td>40551398.0</td>\n",
       "      <td>41389174.0</td>\n",
       "      <td>42228415.0</td>\n",
       "      <td>43053054.0</td>\n",
       "      <td>43851043.0</td>\n",
       "    </tr>\n",
       "    <tr>\n",
       "      <th>3</th>\n",
       "      <td>American Samoa</td>\n",
       "      <td>20127.0</td>\n",
       "      <td>20605.0</td>\n",
       "      <td>21246.0</td>\n",
       "      <td>22029.0</td>\n",
       "      <td>22850.0</td>\n",
       "      <td>23675.0</td>\n",
       "      <td>24473.0</td>\n",
       "      <td>25235.0</td>\n",
       "      <td>25980.0</td>\n",
       "      <td>...</td>\n",
       "      <td>55755</td>\n",
       "      <td>55669.0</td>\n",
       "      <td>55717.0</td>\n",
       "      <td>55791.0</td>\n",
       "      <td>55806.0</td>\n",
       "      <td>55739.0</td>\n",
       "      <td>55617.0</td>\n",
       "      <td>55461.0</td>\n",
       "      <td>55312.0</td>\n",
       "      <td>55197.0</td>\n",
       "    </tr>\n",
       "    <tr>\n",
       "      <th>4</th>\n",
       "      <td>Andorra</td>\n",
       "      <td>13410.0</td>\n",
       "      <td>14378.0</td>\n",
       "      <td>15379.0</td>\n",
       "      <td>16407.0</td>\n",
       "      <td>17466.0</td>\n",
       "      <td>18542.0</td>\n",
       "      <td>19646.0</td>\n",
       "      <td>20760.0</td>\n",
       "      <td>21886.0</td>\n",
       "      <td>...</td>\n",
       "      <td>83748</td>\n",
       "      <td>82427.0</td>\n",
       "      <td>80770.0</td>\n",
       "      <td>79213.0</td>\n",
       "      <td>77993.0</td>\n",
       "      <td>77295.0</td>\n",
       "      <td>76997.0</td>\n",
       "      <td>77008.0</td>\n",
       "      <td>77146.0</td>\n",
       "      <td>77265.0</td>\n",
       "    </tr>\n",
       "  </tbody>\n",
       "</table>\n",
       "<p>5 rows × 62 columns</p>\n",
       "</div>"
      ],
      "text/plain": [
       "     Country Name        1960        1961        1962        1963        1964  \\\n",
       "0     Afghanistan   8996967.0   9169406.0   9351442.0   9543200.0   9744772.0   \n",
       "1         Albania   1608800.0   1659800.0   1711319.0   1762621.0   1814135.0   \n",
       "2         Algeria  11057864.0  11336336.0  11619828.0  11912800.0  12221675.0   \n",
       "3  American Samoa     20127.0     20605.0     21246.0     22029.0     22850.0   \n",
       "4         Andorra     13410.0     14378.0     15379.0     16407.0     17466.0   \n",
       "\n",
       "         1965        1966        1967        1968  ...      2011        2012  \\\n",
       "0   9956318.0  10174840.0  10399936.0  10637064.0  ...  30117411  31161378.0   \n",
       "1   1864791.0   1914573.0   1965598.0   2022272.0  ...   2905195   2900401.0   \n",
       "2  12550880.0  12902626.0  13275020.0  13663581.0  ...  36661438  37383899.0   \n",
       "3     23675.0     24473.0     25235.0     25980.0  ...     55755     55669.0   \n",
       "4     18542.0     19646.0     20760.0     21886.0  ...     83748     82427.0   \n",
       "\n",
       "         2013        2014        2015        2016        2017        2018  \\\n",
       "0  32269592.0  33370804.0  34413603.0  35383028.0  36296111.0  37171922.0   \n",
       "1   2895092.0   2889104.0   2880703.0   2876101.0   2873457.0   2866376.0   \n",
       "2  38140135.0  38923688.0  39728020.0  40551398.0  41389174.0  42228415.0   \n",
       "3     55717.0     55791.0     55806.0     55739.0     55617.0     55461.0   \n",
       "4     80770.0     79213.0     77993.0     77295.0     76997.0     77008.0   \n",
       "\n",
       "         2019        2020  \n",
       "0  38041757.0  38928341.0  \n",
       "1   2854191.0   2837743.0  \n",
       "2  43053054.0  43851043.0  \n",
       "3     55312.0     55197.0  \n",
       "4     77146.0     77265.0  \n",
       "\n",
       "[5 rows x 62 columns]"
      ]
     },
     "execution_count": 2,
     "metadata": {},
     "output_type": "execute_result"
    }
   ],
   "source": [
    "data = pd.read_csv('World3.csv')\n",
    "data.head()"
   ]
  },
  {
   "cell_type": "code",
   "execution_count": 3,
   "id": "c932bafb-d981-43e6-b1f8-b9c6afeb3568",
   "metadata": {},
   "outputs": [
    {
     "data": {
      "text/plain": [
       "(217, 62)"
      ]
     },
     "execution_count": 3,
     "metadata": {},
     "output_type": "execute_result"
    }
   ],
   "source": [
    "data.shape"
   ]
  },
  {
   "cell_type": "code",
   "execution_count": 4,
   "id": "081baa59-7687-477b-ae37-fc3532fcbbec",
   "metadata": {},
   "outputs": [
    {
     "data": {
      "text/html": [
       "<div>\n",
       "<style scoped>\n",
       "    .dataframe tbody tr th:only-of-type {\n",
       "        vertical-align: middle;\n",
       "    }\n",
       "\n",
       "    .dataframe tbody tr th {\n",
       "        vertical-align: top;\n",
       "    }\n",
       "\n",
       "    .dataframe thead th {\n",
       "        text-align: right;\n",
       "    }\n",
       "</style>\n",
       "<table border=\"1\" class=\"dataframe\">\n",
       "  <thead>\n",
       "    <tr style=\"text-align: right;\">\n",
       "      <th></th>\n",
       "      <th>Country Name</th>\n",
       "      <th>1960</th>\n",
       "      <th>1961</th>\n",
       "      <th>1962</th>\n",
       "      <th>1963</th>\n",
       "      <th>1964</th>\n",
       "      <th>1965</th>\n",
       "      <th>1966</th>\n",
       "      <th>1967</th>\n",
       "      <th>1968</th>\n",
       "      <th>...</th>\n",
       "      <th>2011</th>\n",
       "      <th>2012</th>\n",
       "      <th>2013</th>\n",
       "      <th>2014</th>\n",
       "      <th>2015</th>\n",
       "      <th>2016</th>\n",
       "      <th>2017</th>\n",
       "      <th>2018</th>\n",
       "      <th>2019</th>\n",
       "      <th>2020</th>\n",
       "    </tr>\n",
       "  </thead>\n",
       "  <tbody>\n",
       "    <tr>\n",
       "      <th>61</th>\n",
       "      <td>Eritrea</td>\n",
       "      <td>1007586.0</td>\n",
       "      <td>1033320.0</td>\n",
       "      <td>1060489.0</td>\n",
       "      <td>1088859.0</td>\n",
       "      <td>1118152.0</td>\n",
       "      <td>1148188.0</td>\n",
       "      <td>1178875.0</td>\n",
       "      <td>1210304.0</td>\n",
       "      <td>1242633.0</td>\n",
       "      <td>...</td>\n",
       "      <td>3213969</td>\n",
       "      <td>NaN</td>\n",
       "      <td>NaN</td>\n",
       "      <td>NaN</td>\n",
       "      <td>NaN</td>\n",
       "      <td>NaN</td>\n",
       "      <td>NaN</td>\n",
       "      <td>NaN</td>\n",
       "      <td>NaN</td>\n",
       "      <td>NaN</td>\n",
       "    </tr>\n",
       "    <tr>\n",
       "      <th>106</th>\n",
       "      <td>Kuwait</td>\n",
       "      <td>269026.0</td>\n",
       "      <td>300581.0</td>\n",
       "      <td>337346.0</td>\n",
       "      <td>378756.0</td>\n",
       "      <td>423900.0</td>\n",
       "      <td>472032.0</td>\n",
       "      <td>523169.0</td>\n",
       "      <td>577164.0</td>\n",
       "      <td>632911.0</td>\n",
       "      <td>...</td>\n",
       "      <td>3168054</td>\n",
       "      <td>3348852.0</td>\n",
       "      <td>3526382.0</td>\n",
       "      <td>3690939.0</td>\n",
       "      <td>3835588.0</td>\n",
       "      <td>3956862.0</td>\n",
       "      <td>4056102.0</td>\n",
       "      <td>4137314.0</td>\n",
       "      <td>4207077.0</td>\n",
       "      <td>4270563.0</td>\n",
       "    </tr>\n",
       "    <tr>\n",
       "      <th>213</th>\n",
       "      <td>West Bank and Gaza</td>\n",
       "      <td>NaN</td>\n",
       "      <td>NaN</td>\n",
       "      <td>NaN</td>\n",
       "      <td>NaN</td>\n",
       "      <td>NaN</td>\n",
       "      <td>NaN</td>\n",
       "      <td>NaN</td>\n",
       "      <td>NaN</td>\n",
       "      <td>NaN</td>\n",
       "      <td>...</td>\n",
       "      <td>3882986</td>\n",
       "      <td>3979998.0</td>\n",
       "      <td>4076708.0</td>\n",
       "      <td>4173398.0</td>\n",
       "      <td>4270092.0</td>\n",
       "      <td>4367088.0</td>\n",
       "      <td>4454805.0</td>\n",
       "      <td>4569087.0</td>\n",
       "      <td>4685306.0</td>\n",
       "      <td>4803269.0</td>\n",
       "    </tr>\n",
       "  </tbody>\n",
       "</table>\n",
       "<p>3 rows × 62 columns</p>\n",
       "</div>"
      ],
      "text/plain": [
       "           Country Name       1960       1961       1962       1963  \\\n",
       "61              Eritrea  1007586.0  1033320.0  1060489.0  1088859.0   \n",
       "106              Kuwait   269026.0   300581.0   337346.0   378756.0   \n",
       "213  West Bank and Gaza        NaN        NaN        NaN        NaN   \n",
       "\n",
       "          1964       1965       1966       1967       1968  ...     2011  \\\n",
       "61   1118152.0  1148188.0  1178875.0  1210304.0  1242633.0  ...  3213969   \n",
       "106   423900.0   472032.0   523169.0   577164.0   632911.0  ...  3168054   \n",
       "213        NaN        NaN        NaN        NaN        NaN  ...  3882986   \n",
       "\n",
       "          2012       2013       2014       2015       2016       2017  \\\n",
       "61         NaN        NaN        NaN        NaN        NaN        NaN   \n",
       "106  3348852.0  3526382.0  3690939.0  3835588.0  3956862.0  4056102.0   \n",
       "213  3979998.0  4076708.0  4173398.0  4270092.0  4367088.0  4454805.0   \n",
       "\n",
       "          2018       2019       2020  \n",
       "61         NaN        NaN        NaN  \n",
       "106  4137314.0  4207077.0  4270563.0  \n",
       "213  4569087.0  4685306.0  4803269.0  \n",
       "\n",
       "[3 rows x 62 columns]"
      ]
     },
     "execution_count": 4,
     "metadata": {},
     "output_type": "execute_result"
    }
   ],
   "source": [
    "data[data.isnull().any(axis=1)]"
   ]
  },
  {
   "cell_type": "code",
   "execution_count": 5,
   "id": "3600e0cf-4f8e-4aaf-b24c-bc9be21fb2a2",
   "metadata": {},
   "outputs": [],
   "source": [
    "data.dropna(inplace=True)"
   ]
  },
  {
   "cell_type": "code",
   "execution_count": 6,
   "id": "49a0ef54-42a1-4ebc-909d-038fa5ae9bdd",
   "metadata": {},
   "outputs": [
    {
     "data": {
      "text/plain": [
       "(214, 62)"
      ]
     },
     "execution_count": 6,
     "metadata": {},
     "output_type": "execute_result"
    }
   ],
   "source": [
    "data.shape"
   ]
  },
  {
   "cell_type": "code",
   "execution_count": 7,
   "id": "628a2702-6f1e-4de3-a892-6304790009d9",
   "metadata": {},
   "outputs": [],
   "source": [
    "data = data.drop(columns=['Country Name'])"
   ]
  },
  {
   "cell_type": "markdown",
   "id": "3fb3cd85-0bbf-4a87-8a2d-ac4600c1c029",
   "metadata": {},
   "source": [
    "# Model Fit and Predict"
   ]
  },
  {
   "cell_type": "code",
   "execution_count": 8,
   "id": "4ba610ae-18aa-4066-afdd-e6fc39123f18",
   "metadata": {},
   "outputs": [],
   "source": [
    "def build_model(train, modType):\n",
    "    x = train.iloc[:, 0].values.reshape(-1,1)\n",
    "    y = train.iloc[:, 1].values.reshape(-1,1)\n",
    "    model = modType().fit(x,y)\n",
    "    return model\n",
    "\n",
    "def predict(model, year):\n",
    "    return model.predict([[year]])[0][0]"
   ]
  },
  {
   "cell_type": "markdown",
   "id": "a21bc73a-69e6-475d-98fe-d1ed3b905efd",
   "metadata": {},
   "source": [
    "# Predict World Population in 2122"
   ]
  },
  {
   "cell_type": "markdown",
   "id": "81a8894f-0e77-42c0-ae13-0c1ad0796021",
   "metadata": {},
   "source": [
    "## Method #1:\n",
    "Create one model for the total population"
   ]
  },
  {
   "cell_type": "code",
   "execution_count": 9,
   "id": "74cf3516-389d-487c-9fc6-c6b67664c5a8",
   "metadata": {},
   "outputs": [
    {
     "data": {
      "text/html": [
       "<div>\n",
       "<style scoped>\n",
       "    .dataframe tbody tr th:only-of-type {\n",
       "        vertical-align: middle;\n",
       "    }\n",
       "\n",
       "    .dataframe tbody tr th {\n",
       "        vertical-align: top;\n",
       "    }\n",
       "\n",
       "    .dataframe thead th {\n",
       "        text-align: right;\n",
       "    }\n",
       "</style>\n",
       "<table border=\"1\" class=\"dataframe\">\n",
       "  <thead>\n",
       "    <tr style=\"text-align: right;\">\n",
       "      <th></th>\n",
       "      <th>Series Name</th>\n",
       "      <th>Country Name</th>\n",
       "      <th>1960</th>\n",
       "      <th>1961</th>\n",
       "      <th>1962</th>\n",
       "      <th>1963</th>\n",
       "      <th>1964</th>\n",
       "      <th>1965</th>\n",
       "      <th>1966</th>\n",
       "      <th>1967</th>\n",
       "      <th>...</th>\n",
       "      <th>2011</th>\n",
       "      <th>2012</th>\n",
       "      <th>2013</th>\n",
       "      <th>2014</th>\n",
       "      <th>2015</th>\n",
       "      <th>2016</th>\n",
       "      <th>2017</th>\n",
       "      <th>2018</th>\n",
       "      <th>2019</th>\n",
       "      <th>2020</th>\n",
       "    </tr>\n",
       "  </thead>\n",
       "  <tbody>\n",
       "    <tr>\n",
       "      <th>0</th>\n",
       "      <td>Population, total</td>\n",
       "      <td>World</td>\n",
       "      <td>3032156070</td>\n",
       "      <td>3071596055</td>\n",
       "      <td>3124561005</td>\n",
       "      <td>3189655687</td>\n",
       "      <td>3255145692</td>\n",
       "      <td>3322046795</td>\n",
       "      <td>3392097729</td>\n",
       "      <td>3461619724</td>\n",
       "      <td>...</td>\n",
       "      <td>7003760440</td>\n",
       "      <td>7089254548</td>\n",
       "      <td>7175500378</td>\n",
       "      <td>7261846543</td>\n",
       "      <td>7347679005</td>\n",
       "      <td>7433569330</td>\n",
       "      <td>7519183459</td>\n",
       "      <td>7602454161</td>\n",
       "      <td>7683372259</td>\n",
       "      <td>7761620146</td>\n",
       "    </tr>\n",
       "  </tbody>\n",
       "</table>\n",
       "<p>1 rows × 63 columns</p>\n",
       "</div>"
      ],
      "text/plain": [
       "         Series Name Country Name        1960        1961        1962  \\\n",
       "0  Population, total        World  3032156070  3071596055  3124561005   \n",
       "\n",
       "         1963        1964        1965        1966        1967  ...  \\\n",
       "0  3189655687  3255145692  3322046795  3392097729  3461619724  ...   \n",
       "\n",
       "         2011        2012        2013        2014        2015        2016  \\\n",
       "0  7003760440  7089254548  7175500378  7261846543  7347679005  7433569330   \n",
       "\n",
       "         2017        2018        2019        2020  \n",
       "0  7519183459  7602454161  7683372259  7761620146  \n",
       "\n",
       "[1 rows x 63 columns]"
      ]
     },
     "execution_count": 9,
     "metadata": {},
     "output_type": "execute_result"
    }
   ],
   "source": [
    "data2 = pd.read_csv('totalPop.csv')\n",
    "data2.head()"
   ]
  },
  {
   "cell_type": "code",
   "execution_count": 10,
   "id": "ba048b06-193f-40ca-bbdf-779fd8232da3",
   "metadata": {},
   "outputs": [],
   "source": [
    "data2 = data2.drop(columns=['Series Name' ,'Country Name'])"
   ]
  },
  {
   "cell_type": "code",
   "execution_count": 11,
   "id": "7f123e05",
   "metadata": {},
   "outputs": [],
   "source": [
    "data_tuples = list(zip(data2.columns.values,data2.iloc[0, : ]))\n",
    "tempDf = pd.DataFrame(data_tuples, columns=['Year','Population'])"
   ]
  },
  {
   "cell_type": "code",
   "execution_count": 12,
   "id": "b7f3e30c-dfa6-48c2-af57-1a11965d5a69",
   "metadata": {},
   "outputs": [
    {
     "name": "stdout",
     "output_type": "stream",
     "text": [
      "Linear Regression #1 population prediction =  15953694673.0\n"
     ]
    }
   ],
   "source": [
    "linReg = build_model(tempDf, LinearRegression)\n",
    "    \n",
    "predLin1 = predict(linReg, 2122)\n",
    "print(\"Linear Regression #1 population prediction = \", np.floor(predLin1))"
   ]
  },
  {
   "cell_type": "markdown",
   "id": "78e8e0e9-e489-40b0-b80e-9a7a58065c95",
   "metadata": {},
   "source": [
    "### Model plot"
   ]
  },
  {
   "cell_type": "code",
   "execution_count": 13,
   "id": "80aad32c-40cf-4d04-becc-96463e7df91b",
   "metadata": {},
   "outputs": [],
   "source": [
    "from matplotlib import pyplot as plt\n",
    "import seaborn as sns\n",
    "\n",
    "X = tempDf.iloc[:, 0].values\n",
    "Y = tempDf.iloc[:, 1].values\n",
    "x = X.reshape(-1,1)"
   ]
  },
  {
   "cell_type": "code",
   "execution_count": 14,
   "id": "20e187fc-849c-4a85-baa5-223eb8c226d0",
   "metadata": {},
   "outputs": [],
   "source": [
    "y_pred = linReg.predict(x)\n",
    "y_pred = y_pred.reshape(1,-1)"
   ]
  },
  {
   "cell_type": "code",
   "execution_count": 15,
   "id": "cdc4e98a-c725-4d79-86ba-d9e5583ba7b2",
   "metadata": {},
   "outputs": [
    {
     "data": {
      "image/png": "[encoded data removed]",
      "text/plain": [
       "<Figure size 1080x720 with 1 Axes>"
      ]
     },
     "metadata": {
      "needs_background": "light"
     },
     "output_type": "display_data"
    }
   ],
   "source": [
    "import matplotlib.ticker as ticker\n",
    "\n",
    "plt.figure(figsize=(15, 10))\n",
    "\n",
    "sns.set()\n",
    "\n",
    "ax = sns.scatterplot(X, Y, color = 'red')\n",
    "sns.lineplot(X, y = y_pred[0])\n",
    "ax.xaxis.set_major_locator(ticker.MultipleLocator(5))\n",
    "ax.xaxis.set_major_formatter(ticker.ScalarFormatter(-1960,-2020))\n",
    "plt.title('Population Prediction', fontsize=20)\n",
    "plt.xlabel('Years', fontsize=20)\n",
    "plt.ylabel('Population', fontsize=20)\n",
    "plt.legend(['Prediction', 'Population'], fontsize=15 )\n",
    "plt.savefig(\"model.png\")\n",
    "\n",
    "plt.show()"
   ]
  },
  {
   "cell_type": "code",
   "execution_count": 16,
   "id": "649759fb-bec8-41a2-affa-c13ad1e1d639",
   "metadata": {},
   "outputs": [
    {
     "name": "stdout",
     "output_type": "stream",
     "text": [
      "RMSE of the linear regression model = 41276568.06427081\n"
     ]
    }
   ],
   "source": [
    "from sklearn.metrics import mean_squared_error\n",
    "\n",
    "rms = mean_squared_error(Y, linReg.predict(x), squared=False)\n",
    "rms\n",
    "print(\"RMSE of the linear regression model =\", rms)"
   ]
  },
  {
   "cell_type": "markdown",
   "id": "8bdc2cc0-f502-4e77-a8cb-8fd912f6db99",
   "metadata": {
    "tags": []
   },
   "source": [
    "## Method #2:\n",
    "- Model the population growth of each country\n",
    "- Predict the population of one country\n",
    "- Sum the predictedtions"
   ]
  },
  {
   "cell_type": "code",
   "execution_count": 17,
   "id": "54e38308-289f-40f1-a2ab-6bb53e4a8f82",
   "metadata": {},
   "outputs": [
    {
     "name": "stdout",
     "output_type": "stream",
     "text": [
      "Linear Regression #1 population prediction =  15874354113.0\n"
     ]
    }
   ],
   "source": [
    "predLin2 = 0\n",
    "for index in range(data.shape[0]):\n",
    "    data_tuples = list(zip(data.columns.values,data.iloc[index, : ]))\n",
    "    data_tuples\n",
    "    \n",
    "    tempDf = pd.DataFrame(data_tuples, columns=['Year','Population'])\n",
    "    model = build_model(tempDf, LinearRegression)\n",
    "    \n",
    "    pred = predict(model, 2122)\n",
    "    predLin2 = predLin2 + pred\n",
    "    \n",
    "print(\"Linear Regression #1 population prediction = \", np.floor(predLin2))"
   ]
  },
  {
   "cell_type": "markdown",
   "id": "553a1ca3-ac10-450a-9f8b-c2e5abce6215",
   "metadata": {},
   "source": [
    "Method #2 yields a slightly lower prediction than Method #1 which makes it the better method, but still not enough."
   ]
  },
  {
   "cell_type": "markdown",
   "id": "35a49f86-b83c-4933-aeb6-2bcb6192dc2c",
   "metadata": {},
   "source": [
    "# Ridge Regression"
   ]
  },
  {
   "cell_type": "code",
   "execution_count": 18,
   "id": "b183a24a-0268-488a-8988-1040e86c886f",
   "metadata": {},
   "outputs": [],
   "source": [
    "from sklearn.linear_model import Ridge\n",
    "from sklearn.linear_model import Lasso"
   ]
  },
  {
   "cell_type": "markdown",
   "id": "17ecabd8-a592-4017-9bc0-ff28acd16c7f",
   "metadata": {},
   "source": [
    "## Method #1:"
   ]
  },
  {
   "cell_type": "code",
   "execution_count": 19,
   "id": "f642aa43-2d01-438c-8e52-c3f8cba81e5b",
   "metadata": {},
   "outputs": [
    {
     "data": {
      "text/plain": [
       "15953131404.865936"
      ]
     },
     "execution_count": 19,
     "metadata": {},
     "output_type": "execute_result"
    }
   ],
   "source": [
    "data_tuples = list(zip(data2.columns.values,data2.iloc[0, : ]))\n",
    "tempDf = pd.DataFrame(data_tuples, columns=['Year','Population'])\n",
    "\n",
    "x = tempDf.iloc[:, 0].values.reshape(-1,1)\n",
    "y = tempDf.iloc[:, 1].values.reshape(-1,1)\n",
    "\n",
    "ridge = Ridge(alpha=1.0)\n",
    "# fit\n",
    "ridge.fit(x, y)\n",
    "# predict\n",
    "\n",
    "predRidge1 = predict(ridge, 2122)\n",
    "\n",
    "predRidge1"
   ]
  },
  {
   "cell_type": "code",
   "execution_count": 20,
   "id": "ba30d021-2311-4cff-8fc0-9d7d799b6bc1",
   "metadata": {},
   "outputs": [
    {
     "name": "stdout",
     "output_type": "stream",
     "text": [
      "RMSE of the ridge regression model = 41276636.44146911\n"
     ]
    }
   ],
   "source": [
    "rms2 = mean_squared_error(Y, ridge.predict(x), squared=False)\n",
    "print(\"RMSE of the ridge regression model =\", rms2)"
   ]
  },
  {
   "cell_type": "markdown",
   "id": "aff29977-ffb2-4942-965f-8b8056fb1495",
   "metadata": {},
   "source": [
    "## Method #2:"
   ]
  },
  {
   "cell_type": "code",
   "execution_count": 21,
   "id": "f1780e79-2fd4-4cde-9ad3-e4aa728413ee",
   "metadata": {},
   "outputs": [
    {
     "name": "stdout",
     "output_type": "stream",
     "text": [
      "Ridge Regression population prediction =  15873793727.353664\n"
     ]
    }
   ],
   "source": [
    "predRidge2 = 0\n",
    "for index in range(data.shape[0]):\n",
    "    data_tuples = list(zip(data.columns.values,data.iloc[index, : ]))\n",
    "    data_tuples\n",
    "    \n",
    "    tempDf = pd.DataFrame(data_tuples, columns=['Year','Population'])\n",
    "    model = build_model(tempDf, Ridge)\n",
    "    \n",
    "    pred = predict(model, 2122)\n",
    "    predRidge2 = predRidge2 + pred\n",
    "    #print(pred)\n",
    "print(\"Ridge Regression population prediction = \", predRidge2)"
   ]
  },
  {
   "cell_type": "markdown",
   "id": "bedee096-0aee-438d-830a-8ae4dc1333ad",
   "metadata": {},
   "source": [
    "I was curious to see how differently ridge regression will perform on this problem. In both methods it produced almost the same result as the linear regression models, with prediction values lower than that of LR by around 500K."
   ]
  },
  {
   "cell_type": "markdown",
   "id": "ec13e308-f3b2-41dd-9db2-c803d0e2ffb7",
   "metadata": {},
   "source": [
    "# Conclusion"
   ]
  },
  {
   "cell_type": "markdown",
   "id": "8cbaacf2-c3e9-45ad-90a4-0b3d5721e1e0",
   "metadata": {},
   "source": [
    "Linear Regression is not the optimal solution for our problem. It tends to provide high predictions because it follows population growth data from over the past 80 years only, during which world population boomed. Between 1960 and 2020 (the dataset limits), the world population more than doubled, growing from 3 billion to almost 8 billion. It is reasonable for a linear model to predict that the population doubles in 100 years, given only these information. "
   ]
  },
  {
   "cell_type": "markdown",
   "id": "9dc0e565-cad1-44aa-9246-cfc31cdd8fdd",
   "metadata": {},
   "source": [
    "The information extracted from the population data is not enough to make a reliable prediction 100 years in the future. We probably need to look for more data features that contribute to population growth/decline. Such features include (but not limited to): fertility rates, mortality rates, death rates, gross reproduction rates, migration rates, deforestation, climate change, etc…. These features could be consalidated with dimentionality reduction algorithms to extract the most information out of the data that indicate a trend. We then train a neural network on the extracted features. This approach would provide more reliable and data driven predictions."
   ]
  },
  {
   "cell_type": "markdown",
   "id": "376a2514-778a-49d4-ad31-8e0581b9843c",
   "metadata": {},
   "source": [
    "# Experimenting with time series forcasting models"
   ]
  },
  {
   "cell_type": "markdown",
   "id": "3e99fd0b-d410-484e-8e49-e5950c38ccd0",
   "metadata": {
    "tags": []
   },
   "source": [
    "# ARIMA Model:"
   ]
  },
  {
   "cell_type": "code",
   "execution_count": 22,
   "id": "02b3c70c-2c77-4518-a9e4-f37665631948",
   "metadata": {
    "jp-MarkdownHeadingCollapsed": true,
    "tags": []
   },
   "outputs": [],
   "source": [
    "from statsmodels.tsa.arima.model import ARIMA\n",
    "def parser(x):\n",
    "    return pd.datetime.strptime(x, '%Y')\n",
    "years = []\n",
    "years = [parser(x) for x in data2.columns.values]"
   ]
  },
  {
   "cell_type": "code",
   "execution_count": 23,
   "id": "a20a1c80-90a2-4e5e-b719-7edd10013c3c",
   "metadata": {
    "jp-MarkdownHeadingCollapsed": true,
    "tags": []
   },
   "outputs": [
    {
     "data": {
      "text/html": [
       "<div>\n",
       "<style scoped>\n",
       "    .dataframe tbody tr th:only-of-type {\n",
       "        vertical-align: middle;\n",
       "    }\n",
       "\n",
       "    .dataframe tbody tr th {\n",
       "        vertical-align: top;\n",
       "    }\n",
       "\n",
       "    .dataframe thead th {\n",
       "        text-align: right;\n",
       "    }\n",
       "</style>\n",
       "<table border=\"1\" class=\"dataframe\">\n",
       "  <thead>\n",
       "    <tr style=\"text-align: right;\">\n",
       "      <th></th>\n",
       "      <th>Population</th>\n",
       "    </tr>\n",
       "  </thead>\n",
       "  <tbody>\n",
       "    <tr>\n",
       "      <th>0</th>\n",
       "      <td>3032156070</td>\n",
       "    </tr>\n",
       "    <tr>\n",
       "      <th>1</th>\n",
       "      <td>3071596055</td>\n",
       "    </tr>\n",
       "    <tr>\n",
       "      <th>2</th>\n",
       "      <td>3124561005</td>\n",
       "    </tr>\n",
       "    <tr>\n",
       "      <th>3</th>\n",
       "      <td>3189655687</td>\n",
       "    </tr>\n",
       "    <tr>\n",
       "      <th>4</th>\n",
       "      <td>3255145692</td>\n",
       "    </tr>\n",
       "    <tr>\n",
       "      <th>...</th>\n",
       "      <td>...</td>\n",
       "    </tr>\n",
       "    <tr>\n",
       "      <th>56</th>\n",
       "      <td>7433569330</td>\n",
       "    </tr>\n",
       "    <tr>\n",
       "      <th>57</th>\n",
       "      <td>7519183459</td>\n",
       "    </tr>\n",
       "    <tr>\n",
       "      <th>58</th>\n",
       "      <td>7602454161</td>\n",
       "    </tr>\n",
       "    <tr>\n",
       "      <th>59</th>\n",
       "      <td>7683372259</td>\n",
       "    </tr>\n",
       "    <tr>\n",
       "      <th>60</th>\n",
       "      <td>7761620146</td>\n",
       "    </tr>\n",
       "  </tbody>\n",
       "</table>\n",
       "<p>61 rows × 1 columns</p>\n",
       "</div>"
      ],
      "text/plain": [
       "    Population\n",
       "0   3032156070\n",
       "1   3071596055\n",
       "2   3124561005\n",
       "3   3189655687\n",
       "4   3255145692\n",
       "..         ...\n",
       "56  7433569330\n",
       "57  7519183459\n",
       "58  7602454161\n",
       "59  7683372259\n",
       "60  7761620146\n",
       "\n",
       "[61 rows x 1 columns]"
      ]
     },
     "execution_count": 23,
     "metadata": {},
     "output_type": "execute_result"
    }
   ],
   "source": [
    "series = pd.DataFrame(list(data2.iloc[0, : ]), columns=['Population'])\n",
    "series"
   ]
  },
  {
   "cell_type": "code",
   "execution_count": 24,
   "id": "23fe82a3-39e1-4852-ba2a-fe9d1d078fdc",
   "metadata": {
    "jp-MarkdownHeadingCollapsed": true,
    "tags": []
   },
   "outputs": [
    {
     "data": {
      "text/html": [
       "<div>\n",
       "<style scoped>\n",
       "    .dataframe tbody tr th:only-of-type {\n",
       "        vertical-align: middle;\n",
       "    }\n",
       "\n",
       "    .dataframe tbody tr th {\n",
       "        vertical-align: top;\n",
       "    }\n",
       "\n",
       "    .dataframe thead th {\n",
       "        text-align: right;\n",
       "    }\n",
       "</style>\n",
       "<table border=\"1\" class=\"dataframe\">\n",
       "  <thead>\n",
       "    <tr style=\"text-align: right;\">\n",
       "      <th></th>\n",
       "      <th>Population</th>\n",
       "    </tr>\n",
       "  </thead>\n",
       "  <tbody>\n",
       "    <tr>\n",
       "      <th>1960</th>\n",
       "      <td>3032156070</td>\n",
       "    </tr>\n",
       "    <tr>\n",
       "      <th>1961</th>\n",
       "      <td>3071596055</td>\n",
       "    </tr>\n",
       "    <tr>\n",
       "      <th>1962</th>\n",
       "      <td>3124561005</td>\n",
       "    </tr>\n",
       "    <tr>\n",
       "      <th>1963</th>\n",
       "      <td>3189655687</td>\n",
       "    </tr>\n",
       "    <tr>\n",
       "      <th>1964</th>\n",
       "      <td>3255145692</td>\n",
       "    </tr>\n",
       "    <tr>\n",
       "      <th>...</th>\n",
       "      <td>...</td>\n",
       "    </tr>\n",
       "    <tr>\n",
       "      <th>2016</th>\n",
       "      <td>7433569330</td>\n",
       "    </tr>\n",
       "    <tr>\n",
       "      <th>2017</th>\n",
       "      <td>7519183459</td>\n",
       "    </tr>\n",
       "    <tr>\n",
       "      <th>2018</th>\n",
       "      <td>7602454161</td>\n",
       "    </tr>\n",
       "    <tr>\n",
       "      <th>2019</th>\n",
       "      <td>7683372259</td>\n",
       "    </tr>\n",
       "    <tr>\n",
       "      <th>2020</th>\n",
       "      <td>7761620146</td>\n",
       "    </tr>\n",
       "  </tbody>\n",
       "</table>\n",
       "<p>61 rows × 1 columns</p>\n",
       "</div>"
      ],
      "text/plain": [
       "      Population\n",
       "1960  3032156070\n",
       "1961  3071596055\n",
       "1962  3124561005\n",
       "1963  3189655687\n",
       "1964  3255145692\n",
       "...          ...\n",
       "2016  7433569330\n",
       "2017  7519183459\n",
       "2018  7602454161\n",
       "2019  7683372259\n",
       "2020  7761620146\n",
       "\n",
       "[61 rows x 1 columns]"
      ]
     },
     "execution_count": 24,
     "metadata": {},
     "output_type": "execute_result"
    }
   ],
   "source": [
    "series.index = years\n",
    "series.index = series.index.to_period('Y')\n",
    "series"
   ]
  },
  {
   "cell_type": "code",
   "execution_count": 25,
   "id": "361af5cd-2700-4364-ad3c-021ab502ce2f",
   "metadata": {
    "jp-MarkdownHeadingCollapsed": true,
    "tags": []
   },
   "outputs": [
    {
     "name": "stdout",
     "output_type": "stream",
     "text": [
      "                               SARIMAX Results                                \n",
      "==============================================================================\n",
      "Dep. Variable:             Population   No. Observations:                   61\n",
      "Model:                 ARIMA(1, 2, 0)   Log Likelihood                -949.309\n",
      "Date:                Mon, 07 Feb 2022   AIC                           1902.618\n",
      "Time:                        16:01:32   BIC                           1906.773\n",
      "Sample:                    12-31-1960   HQIC                          1904.240\n",
      "                         - 12-31-2020                                         \n",
      "Covariance Type:                  opg                                         \n",
      "==============================================================================\n",
      "                 coef    std err          z      P>|z|      [0.025      0.975]\n",
      "------------------------------------------------------------------------------\n",
      "ar.L1         -0.0045      0.011     -0.418      0.676      -0.026       0.017\n",
      "sigma2      3.093e+12   5.23e-16   5.91e+27      0.000    3.09e+12    3.09e+12\n",
      "===================================================================================\n",
      "Ljung-Box (L1) (Q):                   1.92   Jarque-Bera (JB):               439.95\n",
      "Prob(Q):                              0.17   Prob(JB):                         0.00\n",
      "Heteroskedasticity (H):               0.18   Skew:                             2.56\n",
      "Prob(H) (two-sided):                  0.00   Kurtosis:                        15.36\n",
      "===================================================================================\n",
      "\n",
      "Warnings:\n",
      "[1] Covariance matrix calculated using the outer product of gradients (complex-step).\n",
      "[2] Covariance matrix is singular or near-singular, with condition number 7.07e+42. Standard errors may be unstable.\n"
     ]
    },
    {
     "name": "stderr",
     "output_type": "stream",
     "text": [
      "/home/sam/anaconda3/envs/aplML/lib/python3.9/site-packages/statsmodels/base/model.py:604: ConvergenceWarning: Maximum Likelihood optimization failed to converge. Check mle_retvals\n",
      "  warnings.warn(\"Maximum Likelihood optimization failed to \"\n"
     ]
    }
   ],
   "source": [
    "model = ARIMA(series, order=(1,2,0))\n",
    "fitted_Model = model.fit()\n",
    "print(fitted_Model.summary())"
   ]
  },
  {
   "cell_type": "code",
   "execution_count": 26,
   "id": "fc07410d-bcfc-4722-91b6-8727e77b06ba",
   "metadata": {},
   "outputs": [
    {
     "name": "stdout",
     "output_type": "stream",
     "text": [
      "Prediction: \n"
     ]
    },
    {
     "data": {
      "text/plain": [
       "2122    1.574412e+10\n",
       "Freq: A-DEC, dtype: float64"
      ]
     },
     "execution_count": 26,
     "metadata": {},
     "output_type": "execute_result"
    }
   ],
   "source": [
    "start_index = pd.datetime.strptime('2122','%Y')\n",
    "end_index = pd.datetime.strptime('2122','%Y')\n",
    "forecast = fitted_Model.predict(start=start_index, end=end_index)\n",
    "print(\"Prediction: \")\n",
    "forecast"
   ]
  },
  {
   "cell_type": "markdown",
   "id": "49bc079d-a2ce-4e60-a06e-7101ce84acd2",
   "metadata": {},
   "source": [
    "# Holt-Winters Model:"
   ]
  },
  {
   "cell_type": "code",
   "execution_count": 27,
   "id": "bad3226e-e6d6-4d92-91d9-65d95b691cc6",
   "metadata": {},
   "outputs": [],
   "source": [
    "from statsmodels.tsa.holtwinters import SimpleExpSmoothing   "
   ]
  },
  {
   "cell_type": "code",
   "execution_count": 28,
   "id": "bdc7ea16-5ec9-43fd-ac5f-85ab17c9c437",
   "metadata": {},
   "outputs": [
    {
     "name": "stdout",
     "output_type": "stream",
     "text": [
      "Prediction: \n"
     ]
    },
    {
     "data": {
      "text/plain": [
       "2122    7.681143e+09\n",
       "Freq: A-DEC, dtype: float64"
      ]
     },
     "execution_count": 28,
     "metadata": {},
     "output_type": "execute_result"
    }
   ],
   "source": [
    "f = SimpleExpSmoothing(series).fit(smoothing_level=0.5,optimized=True,use_brute=True)\n",
    "print(\"Prediction: \")\n",
    "f.predict(start=start_index, end=end_index)"
   ]
  }
 ],
 "metadata": {
  "kernelspec": {
   "display_name": "Python 3 (ipykernel)",
   "language": "python",
   "name": "python3"
  },
  "language_info": {
   "codemirror_mode": {
    "name": "ipython",
    "version": 3
   },
   "file_extension": ".py",
   "mimetype": "text/x-python",
   "name": "python",
   "nbconvert_exporter": "python",
   "pygments_lexer": "ipython3",
   "version": "3.9.7"
  }
 },
 "nbformat": 4,
 "nbformat_minor": 5
}
