{
 "cells": [
  {
   "cell_type": "markdown",
   "id": "bc0138ef-34c4-48a3-a1fc-dfc49a310d93",
   "metadata": {},
   "source": [
    "# Imports"
   ]
  },
  {
   "cell_type": "code",
   "execution_count": 1,
   "id": "4ae680ca-d541-4dfd-88b8-b511658eaeae",
   "metadata": {},
   "outputs": [],
   "source": [
    "import pandas as pd\n",
    "import numpy as np\n",
    "from sklearn.linear_model import LinearRegression"
   ]
  },
  {
   "cell_type": "markdown",
   "id": "e49682e5-4911-47a9-bda2-498c663ba37a",
   "metadata": {},
   "source": [
    "# Data Processing "
   ]
  },
  {
   "cell_type": "code",
   "execution_count": 2,
   "id": "ac04e0c7-8e55-45ca-a97d-1dabff7a48d6",
   "metadata": {},
   "outputs": [
    {
     "data": {
      "text/html": [
       "<div>\n",
       "<style scoped>\n",
       "    .dataframe tbody tr th:only-of-type {\n",
       "        vertical-align: middle;\n",
       "    }\n",
       "\n",
       "    .dataframe tbody tr th {\n",
       "        vertical-align: top;\n",
       "    }\n",
       "\n",
       "    .dataframe thead th {\n",
       "        text-align: right;\n",
       "    }\n",
       "</style>\n",
       "<table border=\"1\" class=\"dataframe\">\n",
       "  <thead>\n",
       "    <tr style=\"text-align: right;\">\n",
       "      <th></th>\n",
       "      <th>Country Name</th>\n",
       "      <th>1960</th>\n",
       "      <th>1961</th>\n",
       "      <th>1962</th>\n",
       "      <th>1963</th>\n",
       "      <th>1964</th>\n",
       "      <th>1965</th>\n",
       "      <th>1966</th>\n",
       "      <th>1967</th>\n",
       "      <th>1968</th>\n",
       "      <th>...</th>\n",
       "      <th>2011</th>\n",
       "      <th>2012</th>\n",
       "      <th>2013</th>\n",
       "      <th>2014</th>\n",
       "      <th>2015</th>\n",
       "      <th>2016</th>\n",
       "      <th>2017</th>\n",
       "      <th>2018</th>\n",
       "      <th>2019</th>\n",
       "      <th>2020</th>\n",
       "    </tr>\n",
       "  </thead>\n",
       "  <tbody>\n",
       "    <tr>\n",
       "      <th>0</th>\n",
       "      <td>Afghanistan</td>\n",
       "      <td>8996967.0</td>\n",
       "      <td>9169406.0</td>\n",
       "      <td>9351442.0</td>\n",
       "      <td>9543200.0</td>\n",
       "      <td>9744772.0</td>\n",
       "      <td>9956318.0</td>\n",
       "      <td>10174840.0</td>\n",
       "      <td>10399936.0</td>\n",
       "      <td>10637064.0</td>\n",
       "      <td>...</td>\n",
       "      <td>30117411</td>\n",
       "      <td>31161378.0</td>\n",
       "      <td>32269592.0</td>\n",
       "      <td>33370804.0</td>\n",
       "      <td>34413603.0</td>\n",
       "      <td>35383028.0</td>\n",
       "      <td>36296111.0</td>\n",
       "      <td>37171922.0</td>\n",
       "      <td>38041757.0</td>\n",
       "      <td>38928341.0</td>\n",
       "    </tr>\n",
       "    <tr>\n",
       "      <th>1</th>\n",
       "      <td>Albania</td>\n",
       "      <td>1608800.0</td>\n",
       "      <td>1659800.0</td>\n",
       "      <td>1711319.0</td>\n",
       "      <td>1762621.0</td>\n",
       "      <td>1814135.0</td>\n",
       "      <td>1864791.0</td>\n",
       "      <td>1914573.0</td>\n",
       "      <td>1965598.0</td>\n",
       "      <td>2022272.0</td>\n",
       "      <td>...</td>\n",
       "      <td>2905195</td>\n",
       "      <td>2900401.0</td>\n",
       "      <td>2895092.0</td>\n",
       "      <td>2889104.0</td>\n",
       "      <td>2880703.0</td>\n",
       "      <td>2876101.0</td>\n",
       "      <td>2873457.0</td>\n",
       "      <td>2866376.0</td>\n",
       "      <td>2854191.0</td>\n",
       "      <td>2837743.0</td>\n",
       "    </tr>\n",
       "    <tr>\n",
       "      <th>2</th>\n",
       "      <td>Algeria</td>\n",
       "      <td>11057864.0</td>\n",
       "      <td>11336336.0</td>\n",
       "      <td>11619828.0</td>\n",
       "      <td>11912800.0</td>\n",
       "      <td>12221675.0</td>\n",
       "      <td>12550880.0</td>\n",
       "      <td>12902626.0</td>\n",
       "      <td>13275020.0</td>\n",
       "      <td>13663581.0</td>\n",
       "      <td>...</td>\n",
       "      <td>36661438</td>\n",
       "      <td>37383899.0</td>\n",
       "      <td>38140135.0</td>\n",
       "      <td>38923688.0</td>\n",
       "      <td>39728020.0</td>\n",
       "      <td>40551398.0</td>\n",
       "      <td>41389174.0</td>\n",
       "      <td>42228415.0</td>\n",
       "      <td>43053054.0</td>\n",
       "      <td>43851043.0</td>\n",
       "    </tr>\n",
       "    <tr>\n",
       "      <th>3</th>\n",
       "      <td>American Samoa</td>\n",
       "      <td>20127.0</td>\n",
       "      <td>20605.0</td>\n",
       "      <td>21246.0</td>\n",
       "      <td>22029.0</td>\n",
       "      <td>22850.0</td>\n",
       "      <td>23675.0</td>\n",
       "      <td>24473.0</td>\n",
       "      <td>25235.0</td>\n",
       "      <td>25980.0</td>\n",
       "      <td>...</td>\n",
       "      <td>55755</td>\n",
       "      <td>55669.0</td>\n",
       "      <td>55717.0</td>\n",
       "      <td>55791.0</td>\n",
       "      <td>55806.0</td>\n",
       "      <td>55739.0</td>\n",
       "      <td>55617.0</td>\n",
       "      <td>55461.0</td>\n",
       "      <td>55312.0</td>\n",
       "      <td>55197.0</td>\n",
       "    </tr>\n",
       "    <tr>\n",
       "      <th>4</th>\n",
       "      <td>Andorra</td>\n",
       "      <td>13410.0</td>\n",
       "      <td>14378.0</td>\n",
       "      <td>15379.0</td>\n",
       "      <td>16407.0</td>\n",
       "      <td>17466.0</td>\n",
       "      <td>18542.0</td>\n",
       "      <td>19646.0</td>\n",
       "      <td>20760.0</td>\n",
       "      <td>21886.0</td>\n",
       "      <td>...</td>\n",
       "      <td>83748</td>\n",
       "      <td>82427.0</td>\n",
       "      <td>80770.0</td>\n",
       "      <td>79213.0</td>\n",
       "      <td>77993.0</td>\n",
       "      <td>77295.0</td>\n",
       "      <td>76997.0</td>\n",
       "      <td>77008.0</td>\n",
       "      <td>77146.0</td>\n",
       "      <td>77265.0</td>\n",
       "    </tr>\n",
       "  </tbody>\n",
       "</table>\n",
       "<p>5 rows × 62 columns</p>\n",
       "</div>"
      ],
      "text/plain": [
       "     Country Name        1960        1961        1962        1963        1964  \\\n",
       "0     Afghanistan   8996967.0   9169406.0   9351442.0   9543200.0   9744772.0   \n",
       "1         Albania   1608800.0   1659800.0   1711319.0   1762621.0   1814135.0   \n",
       "2         Algeria  11057864.0  11336336.0  11619828.0  11912800.0  12221675.0   \n",
       "3  American Samoa     20127.0     20605.0     21246.0     22029.0     22850.0   \n",
       "4         Andorra     13410.0     14378.0     15379.0     16407.0     17466.0   \n",
       "\n",
       "         1965        1966        1967        1968  ...      2011        2012  \\\n",
       "0   9956318.0  10174840.0  10399936.0  10637064.0  ...  30117411  31161378.0   \n",
       "1   1864791.0   1914573.0   1965598.0   2022272.0  ...   2905195   2900401.0   \n",
       "2  12550880.0  12902626.0  13275020.0  13663581.0  ...  36661438  37383899.0   \n",
       "3     23675.0     24473.0     25235.0     25980.0  ...     55755     55669.0   \n",
       "4     18542.0     19646.0     20760.0     21886.0  ...     83748     82427.0   \n",
       "\n",
       "         2013        2014        2015        2016        2017        2018  \\\n",
       "0  32269592.0  33370804.0  34413603.0  35383028.0  36296111.0  37171922.0   \n",
       "1   2895092.0   2889104.0   2880703.0   2876101.0   2873457.0   2866376.0   \n",
       "2  38140135.0  38923688.0  39728020.0  40551398.0  41389174.0  42228415.0   \n",
       "3     55717.0     55791.0     55806.0     55739.0     55617.0     55461.0   \n",
       "4     80770.0     79213.0     77993.0     77295.0     76997.0     77008.0   \n",
       "\n",
       "         2019        2020  \n",
       "0  38041757.0  38928341.0  \n",
       "1   2854191.0   2837743.0  \n",
       "2  43053054.0  43851043.0  \n",
       "3     55312.0     55197.0  \n",
       "4     77146.0     77265.0  \n",
       "\n",
       "[5 rows x 62 columns]"
      ]
     },
     "execution_count": 2,
     "metadata": {},
     "output_type": "execute_result"
    }
   ],
   "source": [
    "data = pd.read_csv('World3.csv')\n",
    "data.head()"
   ]
  },
  {
   "cell_type": "code",
   "execution_count": 3,
   "id": "c932bafb-d981-43e6-b1f8-b9c6afeb3568",
   "metadata": {},
   "outputs": [
    {
     "data": {
      "text/plain": [
       "(217, 62)"
      ]
     },
     "execution_count": 3,
     "metadata": {},
     "output_type": "execute_result"
    }
   ],
   "source": [
    "data.shape"
   ]
  },
  {
   "cell_type": "code",
   "execution_count": 4,
   "id": "081baa59-7687-477b-ae37-fc3532fcbbec",
   "metadata": {},
   "outputs": [
    {
     "data": {
      "text/html": [
       "<div>\n",
       "<style scoped>\n",
       "    .dataframe tbody tr th:only-of-type {\n",
       "        vertical-align: middle;\n",
       "    }\n",
       "\n",
       "    .dataframe tbody tr th {\n",
       "        vertical-align: top;\n",
       "    }\n",
       "\n",
       "    .dataframe thead th {\n",
       "        text-align: right;\n",
       "    }\n",
       "</style>\n",
       "<table border=\"1\" class=\"dataframe\">\n",
       "  <thead>\n",
       "    <tr style=\"text-align: right;\">\n",
       "      <th></th>\n",
       "      <th>Country Name</th>\n",
       "      <th>1960</th>\n",
       "      <th>1961</th>\n",
       "      <th>1962</th>\n",
       "      <th>1963</th>\n",
       "      <th>1964</th>\n",
       "      <th>1965</th>\n",
       "      <th>1966</th>\n",
       "      <th>1967</th>\n",
       "      <th>1968</th>\n",
       "      <th>...</th>\n",
       "      <th>2011</th>\n",
       "      <th>2012</th>\n",
       "      <th>2013</th>\n",
       "      <th>2014</th>\n",
       "      <th>2015</th>\n",
       "      <th>2016</th>\n",
       "      <th>2017</th>\n",
       "      <th>2018</th>\n",
       "      <th>2019</th>\n",
       "      <th>2020</th>\n",
       "    </tr>\n",
       "  </thead>\n",
       "  <tbody>\n",
       "    <tr>\n",
       "      <th>61</th>\n",
       "      <td>Eritrea</td>\n",
       "      <td>1007586.0</td>\n",
       "      <td>1033320.0</td>\n",
       "      <td>1060489.0</td>\n",
       "      <td>1088859.0</td>\n",
       "      <td>1118152.0</td>\n",
       "      <td>1148188.0</td>\n",
       "      <td>1178875.0</td>\n",
       "      <td>1210304.0</td>\n",
       "      <td>1242633.0</td>\n",
       "      <td>...</td>\n",
       "      <td>3213969</td>\n",
       "      <td>NaN</td>\n",
       "      <td>NaN</td>\n",
       "      <td>NaN</td>\n",
       "      <td>NaN</td>\n",
       "      <td>NaN</td>\n",
       "      <td>NaN</td>\n",
       "      <td>NaN</td>\n",
       "      <td>NaN</td>\n",
       "      <td>NaN</td>\n",
       "    </tr>\n",
       "    <tr>\n",
       "      <th>106</th>\n",
       "      <td>Kuwait</td>\n",
       "      <td>269026.0</td>\n",
       "      <td>300581.0</td>\n",
       "      <td>337346.0</td>\n",
       "      <td>378756.0</td>\n",
       "      <td>423900.0</td>\n",
       "      <td>472032.0</td>\n",
       "      <td>523169.0</td>\n",
       "      <td>577164.0</td>\n",
       "      <td>632911.0</td>\n",
       "      <td>...</td>\n",
       "      <td>3168054</td>\n",
       "      <td>3348852.0</td>\n",
       "      <td>3526382.0</td>\n",
       "      <td>3690939.0</td>\n",
       "      <td>3835588.0</td>\n",
       "      <td>3956862.0</td>\n",
       "      <td>4056102.0</td>\n",
       "      <td>4137314.0</td>\n",
       "      <td>4207077.0</td>\n",
       "      <td>4270563.0</td>\n",
       "    </tr>\n",
       "    <tr>\n",
       "      <th>213</th>\n",
       "      <td>West Bank and Gaza</td>\n",
       "      <td>NaN</td>\n",
       "      <td>NaN</td>\n",
       "      <td>NaN</td>\n",
       "      <td>NaN</td>\n",
       "      <td>NaN</td>\n",
       "      <td>NaN</td>\n",
       "      <td>NaN</td>\n",
       "      <td>NaN</td>\n",
       "      <td>NaN</td>\n",
       "      <td>...</td>\n",
       "      <td>3882986</td>\n",
       "      <td>3979998.0</td>\n",
       "      <td>4076708.0</td>\n",
       "      <td>4173398.0</td>\n",
       "      <td>4270092.0</td>\n",
       "      <td>4367088.0</td>\n",
       "      <td>4454805.0</td>\n",
       "      <td>4569087.0</td>\n",
       "      <td>4685306.0</td>\n",
       "      <td>4803269.0</td>\n",
       "    </tr>\n",
       "  </tbody>\n",
       "</table>\n",
       "<p>3 rows × 62 columns</p>\n",
       "</div>"
      ],
      "text/plain": [
       "           Country Name       1960       1961       1962       1963  \\\n",
       "61              Eritrea  1007586.0  1033320.0  1060489.0  1088859.0   \n",
       "106              Kuwait   269026.0   300581.0   337346.0   378756.0   \n",
       "213  West Bank and Gaza        NaN        NaN        NaN        NaN   \n",
       "\n",
       "          1964       1965       1966       1967       1968  ...     2011  \\\n",
       "61   1118152.0  1148188.0  1178875.0  1210304.0  1242633.0  ...  3213969   \n",
       "106   423900.0   472032.0   523169.0   577164.0   632911.0  ...  3168054   \n",
       "213        NaN        NaN        NaN        NaN        NaN  ...  3882986   \n",
       "\n",
       "          2012       2013       2014       2015       2016       2017  \\\n",
       "61         NaN        NaN        NaN        NaN        NaN        NaN   \n",
       "106  3348852.0  3526382.0  3690939.0  3835588.0  3956862.0  4056102.0   \n",
       "213  3979998.0  4076708.0  4173398.0  4270092.0  4367088.0  4454805.0   \n",
       "\n",
       "          2018       2019       2020  \n",
       "61         NaN        NaN        NaN  \n",
       "106  4137314.0  4207077.0  4270563.0  \n",
       "213  4569087.0  4685306.0  4803269.0  \n",
       "\n",
       "[3 rows x 62 columns]"
      ]
     },
     "execution_count": 4,
     "metadata": {},
     "output_type": "execute_result"
    }
   ],
   "source": [
    "data[data.isnull().any(axis=1)]"
   ]
  },
  {
   "cell_type": "code",
   "execution_count": 5,
   "id": "3600e0cf-4f8e-4aaf-b24c-bc9be21fb2a2",
   "metadata": {},
   "outputs": [],
   "source": [
    "data.dropna(inplace=True)"
   ]
  },
  {
   "cell_type": "code",
   "execution_count": 6,
   "id": "49a0ef54-42a1-4ebc-909d-038fa5ae9bdd",
   "metadata": {},
   "outputs": [
    {
     "data": {
      "text/plain": [
       "(214, 62)"
      ]
     },
     "execution_count": 6,
     "metadata": {},
     "output_type": "execute_result"
    }
   ],
   "source": [
    "data.shape"
   ]
  },
  {
   "cell_type": "code",
   "execution_count": 7,
   "id": "628a2702-6f1e-4de3-a892-6304790009d9",
   "metadata": {},
   "outputs": [],
   "source": [
    "data = data.drop(columns=['Country Name'])"
   ]
  },
  {
   "cell_type": "markdown",
   "id": "3fb3cd85-0bbf-4a87-8a2d-ac4600c1c029",
   "metadata": {},
   "source": [
    "# Model Fit and Predict"
   ]
  },
  {
   "cell_type": "code",
   "execution_count": 8,
   "id": "4ba610ae-18aa-4066-afdd-e6fc39123f18",
   "metadata": {},
   "outputs": [],
   "source": [
    "def build_model(train, modType):\n",
    "    x = train.iloc[:, 0].values.reshape(-1,1)\n",
    "    y = train.iloc[:, 1].values.reshape(-1,1)\n",
    "    model = modType().fit(x,y)\n",
    "    return model\n",
    "\n",
    "def predict(model, year):\n",
    "    return model.predict([[year]])[0][0]"
   ]
  },
  {
   "cell_type": "markdown",
   "id": "a21bc73a-69e6-475d-98fe-d1ed3b905efd",
   "metadata": {},
   "source": [
    "# Predict World Population in 2122"
   ]
  },
  {
   "cell_type": "markdown",
   "id": "8bdc2cc0-f502-4e77-a8cb-8fd912f6db99",
   "metadata": {},
   "source": [
    "## Method #1:\n",
    "- Model the population growth of each country\n",
    "- Predict the population of one country\n",
    "- Sum the predictedtions"
   ]
  },
  {
   "cell_type": "code",
   "execution_count": 9,
   "id": "54e38308-289f-40f1-a2ab-6bb53e4a8f82",
   "metadata": {},
   "outputs": [
    {
     "data": {
      "text/plain": [
       "15874354113.0"
      ]
     },
     "execution_count": 9,
     "metadata": {},
     "output_type": "execute_result"
    }
   ],
   "source": [
    "predLin1 = 0\n",
    "for index in range(data.shape[0]):\n",
    "    data_tuples = list(zip(data.columns.values,data.iloc[index, : ]))\n",
    "    data_tuples\n",
    "    \n",
    "    tempDf = pd.DataFrame(data_tuples, columns=['Year','Population'])\n",
    "    model = build_model(tempDf, LinearRegression)\n",
    "    \n",
    "    pred = predict(model, 2122)\n",
    "    predLin1 = predLin1 + pred\n",
    "    \n",
    "np.floor(predLin1)"
   ]
  },
  {
   "cell_type": "markdown",
   "id": "81a8894f-0e77-42c0-ae13-0c1ad0796021",
   "metadata": {},
   "source": [
    "# Method #2:\n",
    "Create one model for the total population"
   ]
  },
  {
   "cell_type": "code",
   "execution_count": 10,
   "id": "74cf3516-389d-487c-9fc6-c6b67664c5a8",
   "metadata": {},
   "outputs": [
    {
     "data": {
      "text/html": [
       "<div>\n",
       "<style scoped>\n",
       "    .dataframe tbody tr th:only-of-type {\n",
       "        vertical-align: middle;\n",
       "    }\n",
       "\n",
       "    .dataframe tbody tr th {\n",
       "        vertical-align: top;\n",
       "    }\n",
       "\n",
       "    .dataframe thead th {\n",
       "        text-align: right;\n",
       "    }\n",
       "</style>\n",
       "<table border=\"1\" class=\"dataframe\">\n",
       "  <thead>\n",
       "    <tr style=\"text-align: right;\">\n",
       "      <th></th>\n",
       "      <th>Series Name</th>\n",
       "      <th>Country Name</th>\n",
       "      <th>1960</th>\n",
       "      <th>1961</th>\n",
       "      <th>1962</th>\n",
       "      <th>1963</th>\n",
       "      <th>1964</th>\n",
       "      <th>1965</th>\n",
       "      <th>1966</th>\n",
       "      <th>1967</th>\n",
       "      <th>...</th>\n",
       "      <th>2011</th>\n",
       "      <th>2012</th>\n",
       "      <th>2013</th>\n",
       "      <th>2014</th>\n",
       "      <th>2015</th>\n",
       "      <th>2016</th>\n",
       "      <th>2017</th>\n",
       "      <th>2018</th>\n",
       "      <th>2019</th>\n",
       "      <th>2020</th>\n",
       "    </tr>\n",
       "  </thead>\n",
       "  <tbody>\n",
       "    <tr>\n",
       "      <th>0</th>\n",
       "      <td>Population, total</td>\n",
       "      <td>World</td>\n",
       "      <td>3032156070</td>\n",
       "      <td>3071596055</td>\n",
       "      <td>3124561005</td>\n",
       "      <td>3189655687</td>\n",
       "      <td>3255145692</td>\n",
       "      <td>3322046795</td>\n",
       "      <td>3392097729</td>\n",
       "      <td>3461619724</td>\n",
       "      <td>...</td>\n",
       "      <td>7003760440</td>\n",
       "      <td>7089254548</td>\n",
       "      <td>7175500378</td>\n",
       "      <td>7261846543</td>\n",
       "      <td>7347679005</td>\n",
       "      <td>7433569330</td>\n",
       "      <td>7519183459</td>\n",
       "      <td>7602454161</td>\n",
       "      <td>7683372259</td>\n",
       "      <td>7761620146</td>\n",
       "    </tr>\n",
       "  </tbody>\n",
       "</table>\n",
       "<p>1 rows × 63 columns</p>\n",
       "</div>"
      ],
      "text/plain": [
       "         Series Name Country Name        1960        1961        1962  \\\n",
       "0  Population, total        World  3032156070  3071596055  3124561005   \n",
       "\n",
       "         1963        1964        1965        1966        1967  ...  \\\n",
       "0  3189655687  3255145692  3322046795  3392097729  3461619724  ...   \n",
       "\n",
       "         2011        2012        2013        2014        2015        2016  \\\n",
       "0  7003760440  7089254548  7175500378  7261846543  7347679005  7433569330   \n",
       "\n",
       "         2017        2018        2019        2020  \n",
       "0  7519183459  7602454161  7683372259  7761620146  \n",
       "\n",
       "[1 rows x 63 columns]"
      ]
     },
     "execution_count": 10,
     "metadata": {},
     "output_type": "execute_result"
    }
   ],
   "source": [
    "data2 = pd.read_csv('totalPop.csv')\n",
    "data2.head()"
   ]
  },
  {
   "cell_type": "code",
   "execution_count": 11,
   "id": "ba048b06-193f-40ca-bbdf-779fd8232da3",
   "metadata": {},
   "outputs": [],
   "source": [
    "data2 = data2.drop(columns=['Series Name' ,'Country Name'])"
   ]
  },
  {
   "cell_type": "code",
   "execution_count": 12,
   "id": "7f123e05",
   "metadata": {},
   "outputs": [],
   "source": [
    "data_tuples = list(zip(data2.columns.values,data2.iloc[0, : ]))\n",
    "tempDf = pd.DataFrame(data_tuples, columns=['Year','Population'])"
   ]
  },
  {
   "cell_type": "code",
   "execution_count": 13,
   "id": "b7f3e30c-dfa6-48c2-af57-1a11965d5a69",
   "metadata": {},
   "outputs": [
    {
     "data": {
      "text/plain": [
       "15953694673.0"
      ]
     },
     "execution_count": 13,
     "metadata": {},
     "output_type": "execute_result"
    }
   ],
   "source": [
    "linReg = build_model(tempDf, LinearRegression)\n",
    "    \n",
    "predLin2 = predict(linReg, 2122)\n",
    "np.floor(predLin2)"
   ]
  },
  {
   "cell_type": "code",
   "execution_count": 14,
   "id": "4fdd9367-1444-461f-8fd4-f9df32ebd9dd",
   "metadata": {},
   "outputs": [
    {
     "data": {
      "text/plain": [
       "79340559.72608376"
      ]
     },
     "execution_count": 14,
     "metadata": {},
     "output_type": "execute_result"
    }
   ],
   "source": [
    "np.abs(predLin1-predLin2)"
   ]
  },
  {
   "cell_type": "code",
   "execution_count": 15,
   "id": "80aad32c-40cf-4d04-becc-96463e7df91b",
   "metadata": {},
   "outputs": [
    {
     "data": {
      "image/png": "[encoded data removed]",
      "text/plain": [
       "<Figure size 2160x2160 with 1 Axes>"
      ]
     },
     "metadata": {
      "needs_background": "light"
     },
     "output_type": "display_data"
    }
   ],
   "source": [
    "from matplotlib import pyplot as plt\n",
    "import seaborn as sns\n",
    "\n",
    "X = tempDf.iloc[:, 0].values\n",
    "Y = tempDf.iloc[:, 1].values\n",
    "x = tempDf.iloc[:, 0].values.reshape(-1,1)\n",
    "\n",
    "plt.figure(figsize=(30, 30))\n",
    "\n",
    "plt.scatter(X, Y, c='b')\n",
    "plt.plot(X, linReg.predict(x) ,c='r')\n",
    "plt.legend(['Prediction', 'Population',] )\n",
    "\n",
    "plt.show()"
   ]
  },
  {
   "cell_type": "code",
   "execution_count": 18,
   "id": "649759fb-bec8-41a2-affa-c13ad1e1d639",
   "metadata": {},
   "outputs": [
    {
     "name": "stdout",
     "output_type": "stream",
     "text": [
      "RMSE of the linear regression model = 41276568.06427081\n"
     ]
    }
   ],
   "source": [
    "from sklearn.metrics import mean_squared_error\n",
    "\n",
    "rms = mean_squared_error(Y, linReg.predict(x), squared=False)\n",
    "rms\n",
    "print(\"RMSE of the linear regression model =\", rms)"
   ]
  },
  {
   "cell_type": "markdown",
   "id": "35a49f86-b83c-4933-aeb6-2bcb6192dc2c",
   "metadata": {},
   "source": [
    "# Ridge Regression"
   ]
  },
  {
   "cell_type": "code",
   "execution_count": 19,
   "id": "b183a24a-0268-488a-8988-1040e86c886f",
   "metadata": {},
   "outputs": [],
   "source": [
    "from sklearn.linear_model import Ridge\n",
    "from sklearn.linear_model import Lasso"
   ]
  },
  {
   "cell_type": "code",
   "execution_count": 20,
   "id": "f642aa43-2d01-438c-8e52-c3f8cba81e5b",
   "metadata": {},
   "outputs": [
    {
     "data": {
      "text/plain": [
       "15953131404.865936"
      ]
     },
     "execution_count": 20,
     "metadata": {},
     "output_type": "execute_result"
    }
   ],
   "source": [
    "x = tempDf.iloc[:, 0].values.reshape(-1,1)\n",
    "y = tempDf.iloc[:, 1].values.reshape(-1,1)\n",
    "\n",
    "ridge = Ridge(alpha=1.0)\n",
    "# fit\n",
    "ridge.fit(x, y)\n",
    "# predict\n",
    "\n",
    "predRidge1 = predict(ridge, 2122)\n",
    "\n",
    "predRidge1"
   ]
  },
  {
   "cell_type": "code",
   "execution_count": 21,
   "id": "e680129e-fce2-4ace-abc8-f83d8a446ff9",
   "metadata": {},
   "outputs": [
    {
     "data": {
      "text/plain": [
       "563268.8140258789"
      ]
     },
     "execution_count": 21,
     "metadata": {},
     "output_type": "execute_result"
    }
   ],
   "source": [
    "np.abs(predRidge1-predLin2)"
   ]
  },
  {
   "cell_type": "code",
   "execution_count": 22,
   "id": "ba30d021-2311-4cff-8fc0-9d7d799b6bc1",
   "metadata": {},
   "outputs": [
    {
     "name": "stdout",
     "output_type": "stream",
     "text": [
      "RMSE of the ridge regression model = 41276636.44146911\n"
     ]
    }
   ],
   "source": [
    "rms2 = mean_squared_error(Y, ridge.predict(x), squared=False)\n",
    "print(\"RMSE of the ridge regression model =\", rms2)"
   ]
  },
  {
   "cell_type": "code",
   "execution_count": 120,
   "id": "f1780e79-2fd4-4cde-9ad3-e4aa728413ee",
   "metadata": {},
   "outputs": [
    {
     "data": {
      "text/plain": [
       "15873793727.353664"
      ]
     },
     "execution_count": 120,
     "metadata": {},
     "output_type": "execute_result"
    }
   ],
   "source": [
    "predRidge2 = 0\n",
    "for index in range(data.shape[0]):\n",
    "    data_tuples = list(zip(data.columns.values,data.iloc[index, : ]))\n",
    "    data_tuples\n",
    "    \n",
    "    tempDf = pd.DataFrame(data_tuples, columns=['Year','Population'])\n",
    "    model = build_model(tempDf, Ridge)\n",
    "    \n",
    "    pred = predict(model, 2122)\n",
    "    predRidge2 = predRidge2 + pred\n",
    "    #print(pred)\n",
    "predRidge2"
   ]
  },
  {
   "cell_type": "code",
   "execution_count": 121,
   "id": "73c3a0fb-5308-4d5d-b425-72f27fd8cfdb",
   "metadata": {},
   "outputs": [
    {
     "data": {
      "text/plain": [
       "560386.6002140045"
      ]
     },
     "execution_count": 121,
     "metadata": {},
     "output_type": "execute_result"
    }
   ],
   "source": [
    "np.abs(predRidge2-predLin1)"
   ]
  },
  {
   "cell_type": "code",
   "execution_count": 1,
   "id": "f905d062",
   "metadata": {},
   "outputs": [],
   "source": [
    "import tensorflow as tf"
   ]
  },
  {
   "cell_type": "code",
   "execution_count": 32,
   "id": "acbc4ebe-68ea-4657-96f7-6af3dfe7ef48",
   "metadata": {},
   "outputs": [
    {
     "name": "stdout",
     "output_type": "stream",
     "text": [
      "Epoch 1/100\n",
      "2/2 [==============================] - 0s 11ms/step - loss: 232989347087221508179956334592.0000\n",
      "Epoch 2/100\n",
      "2/2 [==============================] - 0s 14ms/step - loss: inf\n",
      "Epoch 3/100\n",
      "2/2 [==============================] - 0s 14ms/step - loss: inf\n",
      "Epoch 4/100\n",
      "2/2 [==============================] - 0s 12ms/step - loss: nan\n",
      "Epoch 5/100\n",
      "2/2 [==============================] - 0s 13ms/step - loss: nan\n",
      "Epoch 6/100\n",
      "2/2 [==============================] - 0s 16ms/step - loss: nan\n",
      "Epoch 7/100\n",
      "2/2 [==============================] - 0s 17ms/step - loss: nan\n",
      "Epoch 8/100\n",
      "2/2 [==============================] - 0s 13ms/step - loss: nan\n",
      "Epoch 9/100\n",
      "2/2 [==============================] - 0s 15ms/step - loss: nan\n",
      "Epoch 10/100\n",
      "2/2 [==============================] - 0s 15ms/step - loss: nan\n",
      "Epoch 11/100\n",
      "2/2 [==============================] - 0s 14ms/step - loss: nan\n",
      "Epoch 12/100\n",
      "2/2 [==============================] - 0s 14ms/step - loss: nan\n",
      "Epoch 13/100\n",
      "2/2 [==============================] - 0s 17ms/step - loss: nan\n",
      "Epoch 14/100\n",
      "2/2 [==============================] - 0s 13ms/step - loss: nan\n",
      "Epoch 15/100\n",
      "2/2 [==============================] - 0s 15ms/step - loss: nan\n",
      "Epoch 16/100\n",
      "2/2 [==============================] - 0s 15ms/step - loss: nan\n",
      "Epoch 17/100\n",
      "2/2 [==============================] - 0s 17ms/step - loss: nan\n",
      "Epoch 18/100\n",
      "2/2 [==============================] - 0s 22ms/step - loss: nan\n",
      "Epoch 19/100\n",
      "2/2 [==============================] - 0s 20ms/step - loss: nan\n",
      "Epoch 20/100\n",
      "2/2 [==============================] - 0s 16ms/step - loss: nan\n",
      "Epoch 21/100\n",
      "2/2 [==============================] - 0s 17ms/step - loss: nan\n",
      "Epoch 22/100\n",
      "2/2 [==============================] - 0s 17ms/step - loss: nan\n",
      "Epoch 23/100\n",
      "2/2 [==============================] - 0s 15ms/step - loss: nan\n",
      "Epoch 24/100\n",
      "2/2 [==============================] - 0s 15ms/step - loss: nan\n",
      "Epoch 25/100\n",
      "2/2 [==============================] - 0s 12ms/step - loss: nan\n",
      "Epoch 26/100\n",
      "2/2 [==============================] - 0s 13ms/step - loss: nan\n",
      "Epoch 27/100\n",
      "2/2 [==============================] - 0s 14ms/step - loss: nan\n",
      "Epoch 28/100\n",
      "2/2 [==============================] - 0s 16ms/step - loss: nan\n",
      "Epoch 29/100\n",
      "2/2 [==============================] - 0s 15ms/step - loss: nan\n",
      "Epoch 30/100\n",
      "2/2 [==============================] - 0s 15ms/step - loss: nan\n",
      "Epoch 31/100\n",
      "2/2 [==============================] - 0s 14ms/step - loss: nan\n",
      "Epoch 32/100\n",
      "2/2 [==============================] - 0s 15ms/step - loss: nan\n",
      "Epoch 33/100\n",
      "2/2 [==============================] - 0s 14ms/step - loss: nan\n",
      "Epoch 34/100\n",
      "2/2 [==============================] - 0s 13ms/step - loss: nan\n",
      "Epoch 35/100\n",
      "2/2 [==============================] - 0s 14ms/step - loss: nan\n",
      "Epoch 36/100\n",
      "2/2 [==============================] - 0s 16ms/step - loss: nan\n",
      "Epoch 37/100\n",
      "2/2 [==============================] - 0s 21ms/step - loss: nan\n",
      "Epoch 38/100\n",
      "2/2 [==============================] - 0s 19ms/step - loss: nan\n",
      "Epoch 39/100\n",
      "2/2 [==============================] - 0s 19ms/step - loss: nan\n",
      "Epoch 40/100\n",
      "2/2 [==============================] - 0s 30ms/step - loss: nan\n",
      "Epoch 41/100\n",
      "2/2 [==============================] - 0s 21ms/step - loss: nan\n",
      "Epoch 42/100\n",
      "2/2 [==============================] - 0s 14ms/step - loss: nan\n",
      "Epoch 43/100\n",
      "2/2 [==============================] - 0s 14ms/step - loss: nan\n",
      "Epoch 44/100\n",
      "2/2 [==============================] - 0s 12ms/step - loss: nan\n",
      "Epoch 45/100\n",
      "2/2 [==============================] - 0s 16ms/step - loss: nan\n",
      "Epoch 46/100\n",
      "2/2 [==============================] - 0s 11ms/step - loss: nan\n",
      "Epoch 47/100\n",
      "2/2 [==============================] - 0s 14ms/step - loss: nan\n",
      "Epoch 48/100\n",
      "2/2 [==============================] - 0s 19ms/step - loss: nan\n",
      "Epoch 49/100\n",
      "2/2 [==============================] - 0s 15ms/step - loss: nan\n",
      "Epoch 50/100\n",
      "2/2 [==============================] - 0s 12ms/step - loss: nan\n",
      "Epoch 51/100\n",
      "2/2 [==============================] - 0s 11ms/step - loss: nan\n",
      "Epoch 52/100\n",
      "2/2 [==============================] - 0s 21ms/step - loss: nan\n",
      "Epoch 53/100\n",
      "2/2 [==============================] - 0s 19ms/step - loss: nan\n",
      "Epoch 54/100\n",
      "2/2 [==============================] - 0s 16ms/step - loss: nan\n",
      "Epoch 55/100\n",
      "2/2 [==============================] - 0s 19ms/step - loss: nan\n",
      "Epoch 56/100\n",
      "2/2 [==============================] - 0s 18ms/step - loss: nan\n",
      "Epoch 57/100\n",
      "2/2 [==============================] - 0s 17ms/step - loss: nan\n",
      "Epoch 58/100\n",
      "2/2 [==============================] - 0s 11ms/step - loss: nan\n",
      "Epoch 59/100\n",
      "2/2 [==============================] - 0s 12ms/step - loss: nan\n",
      "Epoch 60/100\n",
      "2/2 [==============================] - 0s 12ms/step - loss: nan\n",
      "Epoch 61/100\n",
      "2/2 [==============================] - 0s 17ms/step - loss: nan\n",
      "Epoch 62/100\n",
      "2/2 [==============================] - 0s 11ms/step - loss: nan\n",
      "Epoch 63/100\n",
      "2/2 [==============================] - 0s 12ms/step - loss: nan\n",
      "Epoch 64/100\n",
      "2/2 [==============================] - 0s 12ms/step - loss: nan\n",
      "Epoch 65/100\n",
      "2/2 [==============================] - 0s 14ms/step - loss: nan\n",
      "Epoch 66/100\n",
      "2/2 [==============================] - 0s 17ms/step - loss: nan\n",
      "Epoch 67/100\n",
      "2/2 [==============================] - 0s 14ms/step - loss: nan\n",
      "Epoch 68/100\n",
      "2/2 [==============================] - 0s 16ms/step - loss: nan\n",
      "Epoch 69/100\n",
      "2/2 [==============================] - 0s 15ms/step - loss: nan\n",
      "Epoch 70/100\n",
      "2/2 [==============================] - 0s 13ms/step - loss: nan\n",
      "Epoch 71/100\n",
      "2/2 [==============================] - 0s 16ms/step - loss: nan\n",
      "Epoch 72/100\n",
      "2/2 [==============================] - 0s 13ms/step - loss: nan\n",
      "Epoch 73/100\n",
      "2/2 [==============================] - 0s 14ms/step - loss: nan\n",
      "Epoch 74/100\n",
      "2/2 [==============================] - 0s 12ms/step - loss: nan\n",
      "Epoch 75/100\n",
      "2/2 [==============================] - 0s 14ms/step - loss: nan\n",
      "Epoch 76/100\n",
      "2/2 [==============================] - 0s 16ms/step - loss: nan\n",
      "Epoch 77/100\n",
      "2/2 [==============================] - 0s 12ms/step - loss: nan\n",
      "Epoch 78/100\n",
      "2/2 [==============================] - 0s 16ms/step - loss: nan\n",
      "Epoch 79/100\n",
      "2/2 [==============================] - 0s 10ms/step - loss: nan\n",
      "Epoch 80/100\n",
      "2/2 [==============================] - 0s 13ms/step - loss: nan\n",
      "Epoch 81/100\n",
      "2/2 [==============================] - 0s 14ms/step - loss: nan\n",
      "Epoch 82/100\n",
      "2/2 [==============================] - 0s 16ms/step - loss: nan\n",
      "Epoch 83/100\n",
      "2/2 [==============================] - 0s 16ms/step - loss: nan\n",
      "Epoch 84/100\n",
      "2/2 [==============================] - 0s 19ms/step - loss: nan\n",
      "Epoch 85/100\n",
      "2/2 [==============================] - 0s 18ms/step - loss: nan\n",
      "Epoch 86/100\n",
      "2/2 [==============================] - 0s 19ms/step - loss: nan\n",
      "Epoch 87/100\n",
      "2/2 [==============================] - 0s 23ms/step - loss: nan\n",
      "Epoch 88/100\n",
      "2/2 [==============================] - 0s 18ms/step - loss: nan\n",
      "Epoch 89/100\n",
      "2/2 [==============================] - 0s 21ms/step - loss: nan\n",
      "Epoch 90/100\n",
      "2/2 [==============================] - 0s 18ms/step - loss: nan\n",
      "Epoch 91/100\n",
      "2/2 [==============================] - 0s 22ms/step - loss: nan\n",
      "Epoch 92/100\n",
      "2/2 [==============================] - 0s 17ms/step - loss: nan\n",
      "Epoch 93/100\n",
      "2/2 [==============================] - 0s 15ms/step - loss: nan\n",
      "Epoch 94/100\n",
      "2/2 [==============================] - 0s 14ms/step - loss: nan\n",
      "Epoch 95/100\n",
      "2/2 [==============================] - 0s 15ms/step - loss: nan\n",
      "Epoch 96/100\n",
      "2/2 [==============================] - 0s 15ms/step - loss: nan\n",
      "Epoch 97/100\n",
      "2/2 [==============================] - 0s 11ms/step - loss: nan\n",
      "Epoch 98/100\n",
      "2/2 [==============================] - 0s 22ms/step - loss: nan\n",
      "Epoch 99/100\n",
      "2/2 [==============================] - 0s 13ms/step - loss: nan\n",
      "Epoch 100/100\n",
      "2/2 [==============================] - 0s 11ms/step - loss: nan\n"
     ]
    },
    {
     "data": {
      "text/plain": [
       "<tensorflow.python.keras.callbacks.History at 0x7f4e70600cd0>"
      ]
     },
     "execution_count": 32,
     "metadata": {},
     "output_type": "execute_result"
    }
   ],
   "source": [
    "input_size=1\n",
    "output_size=1\n",
    "models = tf.keras.Sequential([\n",
    "                             tf.keras.layers.Dense(output_size)\n",
    "                            ])\n",
    "custom_optimizer=tf.keras.optimizers.SGD(learning_rate=0.02)\n",
    "models.compile(optimizer=custom_optimizer,loss='mean_squared_error')\n",
    "models.fit(tempDf['Year'],tempDf['Population'],epochs=100,verbose=True)"
   ]
  },
  {
   "cell_type": "code",
   "execution_count": 28,
   "id": "93ddeff7",
   "metadata": {},
   "outputs": [
    {
     "name": "stdout",
     "output_type": "stream",
     "text": [
      "Model: \"sequential_4\"\n",
      "_________________________________________________________________\n",
      "Layer (type)                 Output Shape              Param #   \n",
      "=================================================================\n",
      "dense_4 (Dense)              (None, 1)                 2         \n",
      "=================================================================\n",
      "Total params: 2\n",
      "Trainable params: 2\n",
      "Non-trainable params: 0\n",
      "_________________________________________________________________\n"
     ]
    }
   ],
   "source": [
    "models.summary()"
   ]
  },
  {
   "cell_type": "code",
   "execution_count": 22,
   "id": "3981f2fc",
   "metadata": {},
   "outputs": [],
   "source": [
    "tempDf[\"Year\"] = np.int64(tempDf[\"Year\"])"
   ]
  },
  {
   "cell_type": "code",
   "execution_count": 23,
   "id": "cd4d1d56",
   "metadata": {},
   "outputs": [
    {
     "data": {
      "text/plain": [
       "0     1960\n",
       "1     1961\n",
       "2     1962\n",
       "3     1963\n",
       "4     1964\n",
       "      ... \n",
       "56    2016\n",
       "57    2017\n",
       "58    2018\n",
       "59    2019\n",
       "60    2020\n",
       "Name: Year, Length: 61, dtype: int64"
      ]
     },
     "execution_count": 23,
     "metadata": {},
     "output_type": "execute_result"
    }
   ],
   "source": [
    "tempDf[\"Year\"]"
   ]
  }
 ],
 "metadata": {
  "kernelspec": {
   "display_name": "Python 3 (ipykernel)",
   "language": "python",
   "name": "python3"
  },
  "language_info": {
   "codemirror_mode": {
    "name": "ipython",
    "version": 3
   },
   "file_extension": ".py",
   "mimetype": "text/x-python",
   "name": "python",
   "nbconvert_exporter": "python",
   "pygments_lexer": "ipython3",
   "version": "3.9.7"
  }
 },
 "nbformat": 4,
 "nbformat_minor": 5
}
