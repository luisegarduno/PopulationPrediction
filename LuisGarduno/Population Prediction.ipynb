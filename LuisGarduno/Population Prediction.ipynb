{
 "cells": [
  {
   "cell_type": "markdown",
   "id": "resident-criterion",
   "metadata": {},
   "source": [
    "<h3> Luis Garduno <h3>\n",
    "\n",
    "Dataset: [__International Database (IDB)__](https://www.census.gov/data-tools/demo/idb/#/country?COUNTRY_YEAR=2022&COUNTRY_YR_ANIM=2022)\n",
    "\n",
    "Question Of Interest: Predict the population of earth in 2122.\n",
    "\n",
    "# Data Understanding\n",
    "\n",
    "## Data Description"
   ]
  },
  {
   "cell_type": "code",
   "execution_count": 1,
   "id": "muslim-plant",
   "metadata": {},
   "outputs": [
    {
     "name": "stdout",
     "output_type": "stream",
     "text": [
      "<class 'pandas.core.frame.DataFrame'>\n",
      "RangeIndex: 34237 entries, 0 to 34236\n",
      "Data columns (total 99 columns):\n",
      " #   Column     Non-Null Count  Dtype  \n",
      "---  ------     --------------  -----  \n",
      " 0   #YR        34237 non-null  int64  \n",
      " 1   TFR        26163 non-null  float64\n",
      " 2   SRB        26163 non-null  float64\n",
      " 3   RNI        26172 non-null  float64\n",
      " 4   POP95_99   26171 non-null  float64\n",
      " 5   POP90_94   26171 non-null  float64\n",
      " 6   POP85_89   26171 non-null  float64\n",
      " 7   POP80_84   26171 non-null  float64\n",
      " 8   POP75_79   26171 non-null  float64\n",
      " 9   POP70_74   26171 non-null  float64\n",
      " 10  POP65_69   26171 non-null  float64\n",
      " 11  POP60_64   26171 non-null  float64\n",
      " 12  POP5_9     26171 non-null  float64\n",
      " 13  POP55_59   26171 non-null  float64\n",
      " 14  POP50_54   26171 non-null  float64\n",
      " 15  POP45_49   26171 non-null  float64\n",
      " 16  POP40_44   26171 non-null  float64\n",
      " 17  POP35_39   26171 non-null  float64\n",
      " 18  POP30_34   26171 non-null  float64\n",
      " 19  POP25_29   26171 non-null  float64\n",
      " 20  POP20_24   26171 non-null  float64\n",
      " 21  POP15_19   26171 non-null  float64\n",
      " 22  POP10_14   26171 non-null  float64\n",
      " 23  POP100_    26171 non-null  float64\n",
      " 24  POP0_4     26171 non-null  float64\n",
      " 25  POP        34237 non-null  int64  \n",
      " 26  NMR        26172 non-null  float64\n",
      " 27  NAME       34237 non-null  object \n",
      " 28  MR1_4      26163 non-null  float64\n",
      " 29  MR0_4      26163 non-null  float64\n",
      " 30  MPOP95_99  26171 non-null  float64\n",
      " 31  MPOP90_94  26171 non-null  float64\n",
      " 32  MPOP85_89  26171 non-null  float64\n",
      " 33  MPOP80_84  26171 non-null  float64\n",
      " 34  MPOP75_79  26171 non-null  float64\n",
      " 35  MPOP70_74  26171 non-null  float64\n",
      " 36  MPOP65_69  26171 non-null  float64\n",
      " 37  MPOP60_64  26171 non-null  float64\n",
      " 38  MPOP5_9    26171 non-null  float64\n",
      " 39  MPOP55_59  26171 non-null  float64\n",
      " 40  MPOP50_54  26171 non-null  float64\n",
      " 41  MPOP45_49  26171 non-null  float64\n",
      " 42  MPOP40_44  26171 non-null  float64\n",
      " 43  MPOP35_39  26171 non-null  float64\n",
      " 44  MPOP30_34  26171 non-null  float64\n",
      " 45  MPOP25_29  26171 non-null  float64\n",
      " 46  MPOP20_24  26171 non-null  float64\n",
      " 47  MPOP15_19  26171 non-null  float64\n",
      " 48  MPOP10_14  26171 non-null  float64\n",
      " 49  MPOP100_   26171 non-null  float64\n",
      " 50  MPOP0_4    26171 non-null  float64\n",
      " 51  MPOP       26171 non-null  float64\n",
      " 52  MMR1_4     26163 non-null  float64\n",
      " 53  MMR0_4     26163 non-null  float64\n",
      " 54  IMR_M      26163 non-null  float64\n",
      " 55  IMR_F      26163 non-null  float64\n",
      " 56  IMR        26163 non-null  float64\n",
      " 57  GRR        26163 non-null  float64\n",
      " 58  GR         26172 non-null  float64\n",
      " 59  FPOP95_99  26171 non-null  float64\n",
      " 60  FPOP90_94  26171 non-null  float64\n",
      " 61  FPOP85_89  26171 non-null  float64\n",
      " 62  FPOP80_84  26171 non-null  float64\n",
      " 63  FPOP75_79  26171 non-null  float64\n",
      " 64  FPOP70_74  26171 non-null  float64\n",
      " 65  FPOP65_69  26171 non-null  float64\n",
      " 66  FPOP60_64  26171 non-null  float64\n",
      " 67  FPOP5_9    26171 non-null  float64\n",
      " 68  FPOP55_59  26171 non-null  float64\n",
      " 69  FPOP50_54  26171 non-null  float64\n",
      " 70  FPOP45_49  26171 non-null  float64\n",
      " 71  FPOP40_44  26171 non-null  float64\n",
      " 72  FPOP35_39  26171 non-null  float64\n",
      " 73  FPOP30_34  26171 non-null  float64\n",
      " 74  FPOP25_29  26171 non-null  float64\n",
      " 75  FPOP20_24  26171 non-null  float64\n",
      " 76  FPOP15_19  26171 non-null  float64\n",
      " 77  FPOP10_14  26171 non-null  float64\n",
      " 78  FPOP100_   26171 non-null  float64\n",
      " 79  FPOP0_4    26171 non-null  float64\n",
      " 80  FPOP       26171 non-null  float64\n",
      " 81  FMR1_4     26163 non-null  float64\n",
      " 82  FMR0_4     26163 non-null  float64\n",
      " 83  GENC       34086 non-null  object \n",
      " 84  FIPS       34237 non-null  object \n",
      " 85  E0_M       26163 non-null  float64\n",
      " 86  E0_F       26163 non-null  float64\n",
      " 87  E0         26163 non-null  float64\n",
      " 88  CDR        26172 non-null  float64\n",
      " 89  CBR        26172 non-null  float64\n",
      " 90  ASFR45_49  26173 non-null  float64\n",
      " 91  ASFR40_44  26173 non-null  float64\n",
      " 92  ASFR35_39  26173 non-null  float64\n",
      " 93  ASFR30_34  26173 non-null  float64\n",
      " 94  ASFR25_29  26173 non-null  float64\n",
      " 95  ASFR20_24  26173 non-null  float64\n",
      " 96  ASFR15_19  26173 non-null  float64\n",
      " 97  AREA_KM2   34237 non-null  int64  \n",
      " 98  POP_DENS   34237 non-null  float64\n",
      "dtypes: float64(93), int64(3), object(3)\n",
      "memory usage: 25.9+ MB\n"
     ]
    }
   ],
   "source": [
    "import numpy as np\n",
    "import pandas as pd\n",
    "\n",
    "# Load dataset into dataframe\n",
    "df = pd.read_csv('https://raw.githubusercontent.com/luisegarduno/MachineLearning_Projects/master/data/idb5yr.all', delimiter='|', encoding='ISO-8859-1')\n",
    "\n",
    "df.info()"
   ]
  },
  {
   "cell_type": "code",
   "execution_count": 2,
   "id": "comfortable-movie",
   "metadata": {},
   "outputs": [
    {
     "data": {
      "text/html": [
       "<div>\n",
       "<style scoped>\n",
       "    .dataframe tbody tr th:only-of-type {\n",
       "        vertical-align: middle;\n",
       "    }\n",
       "\n",
       "    .dataframe tbody tr th {\n",
       "        vertical-align: top;\n",
       "    }\n",
       "\n",
       "    .dataframe thead th {\n",
       "        text-align: right;\n",
       "    }\n",
       "</style>\n",
       "<table border=\"1\" class=\"dataframe\">\n",
       "  <thead>\n",
       "    <tr style=\"text-align: right;\">\n",
       "      <th></th>\n",
       "      <th>YEAR</th>\n",
       "      <th>POP</th>\n",
       "    </tr>\n",
       "  </thead>\n",
       "  <tbody>\n",
       "    <tr>\n",
       "      <th>count</th>\n",
       "      <td>34237.000000</td>\n",
       "      <td>3.423700e+04</td>\n",
       "    </tr>\n",
       "    <tr>\n",
       "      <th>mean</th>\n",
       "      <td>2024.935158</td>\n",
       "      <td>3.306017e+07</td>\n",
       "    </tr>\n",
       "    <tr>\n",
       "      <th>std</th>\n",
       "      <td>43.571971</td>\n",
       "      <td>1.253471e+08</td>\n",
       "    </tr>\n",
       "    <tr>\n",
       "      <th>min</th>\n",
       "      <td>1950.000000</td>\n",
       "      <td>2.028000e+03</td>\n",
       "    </tr>\n",
       "    <tr>\n",
       "      <th>25%</th>\n",
       "      <td>1987.000000</td>\n",
       "      <td>4.304230e+05</td>\n",
       "    </tr>\n",
       "    <tr>\n",
       "      <th>50%</th>\n",
       "      <td>2025.000000</td>\n",
       "      <td>4.831844e+06</td>\n",
       "    </tr>\n",
       "    <tr>\n",
       "      <th>75%</th>\n",
       "      <td>2063.000000</td>\n",
       "      <td>2.070922e+07</td>\n",
       "    </tr>\n",
       "    <tr>\n",
       "      <th>max</th>\n",
       "      <td>2100.000000</td>\n",
       "      <td>1.647894e+09</td>\n",
       "    </tr>\n",
       "  </tbody>\n",
       "</table>\n",
       "</div>"
      ],
      "text/plain": [
       "               YEAR           POP\n",
       "count  34237.000000  3.423700e+04\n",
       "mean    2024.935158  3.306017e+07\n",
       "std       43.571971  1.253471e+08\n",
       "min     1950.000000  2.028000e+03\n",
       "25%     1987.000000  4.304230e+05\n",
       "50%     2025.000000  4.831844e+06\n",
       "75%     2063.000000  2.070922e+07\n",
       "max     2100.000000  1.647894e+09"
      ]
     },
     "execution_count": 2,
     "metadata": {},
     "output_type": "execute_result"
    }
   ],
   "source": [
    "import seaborn as sns\n",
    "import matplotlib.pyplot as plt\n",
    "%matplotlib inline\n",
    "\n",
    "# Make year column easier to understand\n",
    "df.rename(columns={'#YR':'YEAR'}, inplace=True)\n",
    "\n",
    "# Remove every column except for year & population\n",
    "for col in df.columns.values:\n",
    "    if col != 'YEAR' and col != 'POP':\n",
    "        df.drop(col, axis=1, inplace=True)\n",
    "\n",
    "df.describe()"
   ]
  },
  {
   "cell_type": "markdown",
   "id": "informative-cornell",
   "metadata": {},
   "source": [
    "\n",
    "------------------------\n",
    "\n",
    "## Data Quality"
   ]
  },
  {
   "cell_type": "code",
   "execution_count": 3,
   "id": "aging-combining",
   "metadata": {},
   "outputs": [
    {
     "name": "stdout",
     "output_type": "stream",
     "text": [
      "Number of unique values in column \"YEAR\" :  151\n"
     ]
    },
    {
     "data": {
      "image/png": "[encoded data removed]",
      "text/plain": [
       "<Figure size 1800x720 with 2 Axes>"
      ]
     },
     "metadata": {
      "needs_background": "light"
     },
     "output_type": "display_data"
    }
   ],
   "source": [
    "import missingno as mn\n",
    "\n",
    "mn.matrix(df)\n",
    "\n",
    "# Count unique values in column 'YEAR' of the dataframe\n",
    "print('Number of unique values in column \"YEAR\" : ', df['YEAR'].nunique())"
   ]
  },
  {
   "cell_type": "markdown",
   "id": "union-american",
   "metadata": {},
   "source": [
    "\n",
    "------------------------\n",
    "\n",
    "## Cleaning the Dataset"
   ]
  },
  {
   "cell_type": "code",
   "execution_count": 4,
   "id": "loose-astronomy",
   "metadata": {},
   "outputs": [
    {
     "name": "stdout",
     "output_type": "stream",
     "text": [
      "\n",
      "--> Current Population (2021): 7,831,718,605\n",
      "\n"
     ]
    },
    {
     "data": {
      "text/html": [
       "<div>\n",
       "<style scoped>\n",
       "    .dataframe tbody tr th:only-of-type {\n",
       "        vertical-align: middle;\n",
       "    }\n",
       "\n",
       "    .dataframe tbody tr th {\n",
       "        vertical-align: top;\n",
       "    }\n",
       "\n",
       "    .dataframe thead th {\n",
       "        text-align: right;\n",
       "    }\n",
       "</style>\n",
       "<table border=\"1\" class=\"dataframe\">\n",
       "  <thead>\n",
       "    <tr style=\"text-align: right;\">\n",
       "      <th></th>\n",
       "      <th>YEAR</th>\n",
       "      <th>POP</th>\n",
       "    </tr>\n",
       "  </thead>\n",
       "  <tbody>\n",
       "    <tr>\n",
       "      <th>56</th>\n",
       "      <td>2017</td>\n",
       "      <td>7516769535</td>\n",
       "    </tr>\n",
       "    <tr>\n",
       "      <th>57</th>\n",
       "      <td>2018</td>\n",
       "      <td>7597066210</td>\n",
       "    </tr>\n",
       "    <tr>\n",
       "      <th>58</th>\n",
       "      <td>2019</td>\n",
       "      <td>7676686052</td>\n",
       "    </tr>\n",
       "    <tr>\n",
       "      <th>59</th>\n",
       "      <td>2020</td>\n",
       "      <td>7756873419</td>\n",
       "    </tr>\n",
       "    <tr>\n",
       "      <th>60</th>\n",
       "      <td>2021</td>\n",
       "      <td>7831718605</td>\n",
       "    </tr>\n",
       "  </tbody>\n",
       "</table>\n",
       "</div>"
      ],
      "text/plain": [
       "    YEAR         POP\n",
       "56  2017  7516769535\n",
       "57  2018  7597066210\n",
       "58  2019  7676686052\n",
       "59  2020  7756873419\n",
       "60  2021  7831718605"
      ]
     },
     "execution_count": 4,
     "metadata": {},
     "output_type": "execute_result"
    }
   ],
   "source": [
    "# Group by year & get sum\n",
    "df_yr = df.groupby(by='YEAR')\n",
    "df_yr = df_yr['POP'].sum()\n",
    "\n",
    "# Create a new dataframe with new data (1961 - 2021)\n",
    "pop_sum = []\n",
    "for i in range(1961, 2022):\n",
    "    pop_sum.append(df_yr[i])\n",
    "df_pop = pd.DataFrame({'YEAR': list(range(1961, 2022)), 'POP': pop_sum})\n",
    "df = df_pop\n",
    "\n",
    "print(f'\\n--> Current Population (2021): {df[\"POP\"][60]:,d}\\n')\n",
    "df.tail(5)"
   ]
  },
  {
   "cell_type": "code",
   "execution_count": 5,
   "id": "secret-interval",
   "metadata": {},
   "outputs": [
    {
     "data": {
      "image/png": "[encoded data removed]",
      "text/plain": [
       "<Figure size 720x504 with 1 Axes>"
      ]
     },
     "metadata": {},
     "output_type": "display_data"
    }
   ],
   "source": [
    "sns.set_style(\"darkgrid\")\n",
    "plt.subplots(figsize=(10,7))\n",
    "ax = sns.scatterplot(data=df, x='YEAR', y='POP', color='blue')\n",
    "ax.set_xlabel('Years', fontsize=16)\n",
    "ax.set_ylabel('Population', fontsize=16)\n",
    "ax.set_title('World Population (1961-2021)', fontsize=18)\n",
    "plt.xlim(1960, 2022)\n",
    "\n",
    "plt.show()"
   ]
  },
  {
   "cell_type": "code",
   "execution_count": 6,
   "id": "speaking-desktop",
   "metadata": {},
   "outputs": [],
   "source": [
    "# Define X & Y\n",
    "if 'POP' in df_pop:\n",
    "    y = df_pop['POP'].values\n",
    "    del df_pop['POP']\n",
    "    X = df_pop.to_numpy()"
   ]
  },
  {
   "cell_type": "markdown",
   "id": "other-glucose",
   "metadata": {},
   "source": [
    "\n",
    "----------------------\n",
    "\n",
    "\n",
    "# Modeling\n",
    "\n",
    "Derived the formula for calculating the optimal values of the regression weights:\n",
    "\n",
    "$$ w = (X^TX)^{-1}X^Ty $$\n",
    "\n",
    "where $X$ is the matrix of values with a bias column of ones appended onto it.\n",
    "For the population dataset one could construct this $X$ matrix by stacking a column of ones onto the `df_pop.YEAR` matrix. \n",
    "\n",
    "$$ X=\\begin{bmatrix}\n",
    "         & \\vdots &        &  1 \\\\\n",
    "        \\dotsb & \\text{ds.data} & \\dotsb &  \\vdots\\\\\n",
    "         & \\vdots &         &  1\\\\\n",
    "     \\end{bmatrix}\n",
    "$$"
   ]
  },
  {
   "cell_type": "code",
   "execution_count": 7,
   "id": "obvious-control",
   "metadata": {},
   "outputs": [
    {
     "name": "stdout",
     "output_type": "stream",
     "text": [
      "\n",
      "++++++++++++++ WEIGHTS +++++++++++++++++\n",
      "               0\n",
      "0 -1.550917e+11\n",
      "1  8.060884e+07\n",
      "\n",
      "============= TARGET PERCENT ACCURACY ===============\n",
      "         0\n",
      "0   96.70\n",
      "1   97.54\n",
      "2   97.93\n",
      "3   98.25\n",
      "4   98.63\n",
      "..    ...\n",
      "56  99.73\n",
      "57  99.74\n",
      "58  99.75\n",
      "59  99.76\n",
      "60  99.84\n",
      "\n",
      "[61 rows x 1 columns]\n"
     ]
    }
   ],
   "source": [
    "# Create a matrix full of ones & stack 2 matrices horizontally\n",
    "X = np.hstack((np.ones((len(X), 1)), X))\n",
    "\n",
    "# Calculate optimal values of the regression weights\n",
    "w = np.linalg.inv(X.T @ X) @ X.T @ y\n",
    "\n",
    "print(\"\\n++++++++++++++ WEIGHTS +++++++++++++++++\\n\", pd.DataFrame(data=w))\n",
    "diff = np.round(( (y - (abs(np.dot(X,w) - y))) / y ) * 100, 2)\n",
    "print(\"\\n============= TARGET PERCENT ACCURACY ===============\\n\", pd.DataFrame(data=diff))\n"
   ]
  },
  {
   "cell_type": "markdown",
   "id": "civic-adult",
   "metadata": {},
   "source": [
    "\n",
    "---------------------------\n",
    "\n",
    "To predict the output from our model, $\\hat{y}$,from $w$ and $X$ we need to use\n",
    "\n",
    "$\\hat{y}=w^TX^T$, for row vector $\\hat{y}$"
   ]
  },
  {
   "cell_type": "code",
   "execution_count": 8,
   "id": "consistent-disco",
   "metadata": {},
   "outputs": [
    {
     "name": "stdout",
     "output_type": "stream",
     "text": [
      "MSE: 1,150,330,787,912,879\n"
     ]
    }
   ],
   "source": [
    "yHat_np = w.T @ X.T        # Shape : (1,61)\n",
    "yHat_np = yHat_np.ravel()  # Shape : (61,)\n",
    "\n",
    "MSE_np = (np.square(y - yHat_np)).mean()\n",
    "print(f'MSE: {round(MSE_np):,d}')"
   ]
  },
  {
   "cell_type": "code",
   "execution_count": 9,
   "id": "continuing-soviet",
   "metadata": {},
   "outputs": [
    {
     "name": "stdout",
     "output_type": "stream",
     "text": [
      "\n",
      "--> ~Population (2122): 15,960,289,855\n",
      "\n"
     ]
    },
    {
     "data": {
      "image/png": "[encoded data removed]",
      "text/plain": [
       "<Figure size 1800x720 with 1 Axes>"
      ]
     },
     "metadata": {},
     "output_type": "display_data"
    }
   ],
   "source": [
    "X_new = np.array([[0], [2122]])\n",
    "X_test = np.c_[np.ones((len(X_new), 1)), X_new]\n",
    "y_test = X_test.dot(w)\n",
    "print(f'\\n--> ~Population (2122): {round(y_test[1]):,d}\\n')\n",
    "\n",
    "sns.set_style(\"darkgrid\")\n",
    "plt.subplots(figsize=(25,10))\n",
    "\n",
    "plt.plot(X_new, y_test, \"r-\", color='red')\n",
    "sns.scatterplot(data=df, x='YEAR', y=y, color='blue')\n",
    "sns.scatterplot(x=X_new[1], y=y_test[1], s=100, marker=\"X\", linewidth=1, edgecolor='k', color='gold')\n",
    "\n",
    "plt.xlabel('Years', fontsize=20)\n",
    "plt.ylabel('Population', fontsize=20)\n",
    "plt.title('Population Prediction (1961-2122)', fontsize=20)\n",
    "plt.axis([1960, 2124, 2000000000, 16200000000])\n",
    "plt.legend([\"Linear Regression\", \"Population\", \"Prediction\"], prop={'size': 15})\n",
    "plt.show()"
   ]
  },
  {
   "cell_type": "markdown",
   "id": "ideal-psychiatry",
   "metadata": {},
   "source": [
    "-----------------------------\n",
    "\n",
    "# Comparing Performance"
   ]
  },
  {
   "cell_type": "code",
   "execution_count": 10,
   "id": "parental-substitute",
   "metadata": {},
   "outputs": [
    {
     "name": "stdout",
     "output_type": "stream",
     "text": [
      "******** Linear Equation ********\n",
      "[Numpy] \th = -155091670931.57 * x + (80608841.08677)\n",
      "[Sklearn]\th = -155091670931.687 * x + (80608841.08683)\n",
      "\n",
      "******** Mean Squared Error ********\n",
      "[Numpy] \tMSE: 1,150,330,787,912,879\n",
      "[Sklearn]\tMSE: 1,150,330,787,912,744\n",
      "\n",
      "******** Population Prediction - 2122 ********\n",
      "[Numpy] \t 15,960,289,855\n",
      "[Sklearn]\t 15,960,289,855\n",
      "\n"
     ]
    }
   ],
   "source": [
    "from sklearn.metrics import mean_squared_error\n",
    "from sklearn.linear_model import LinearRegression\n",
    "\n",
    "reg = LinearRegression().fit(X, y)\n",
    "MSE_sk = mean_squared_error(y, reg.predict(X))\n",
    "y_testsk = reg.predict(X_test)\n",
    "\n",
    "print(\"******** Linear Equation ********\")\n",
    "print(\"[Numpy] \\th =\", round(w[0],3), \"* x + (\" + str(round(w[1],5)) + \")\")\n",
    "print(\"[Sklearn]\\th =\", round(reg.intercept_,3), \"* x + (\" + str(round(reg.coef_[1],5)) + \")\\n\")\n",
    "\n",
    "print(\"******** Mean Squared Error ********\")\n",
    "print(f'[Numpy] \\tMSE: {round(MSE_np):,d}')\n",
    "print(f'[Sklearn]\\tMSE: {round(MSE_sk):,d}\\n')\n",
    "\n",
    "print(\"******** Population Prediction - 2122 ********\")\n",
    "print(f'[Numpy] \\t {round(y_test[1]):,d}')\n",
    "print(f'[Sklearn]\\t {round(y_testsk[1]):,d}\\n')"
   ]
  },
  {
   "cell_type": "markdown",
   "id": "macro-scholarship",
   "metadata": {},
   "source": [
    "\n",
    "---------------------\n",
    "\n",
    "#### References\n",
    "\n",
    "\n",
    "Census. International Database (IDB). https://www.census.gov/data-tools/demo/idb/#/country?COUNTRY_YEAR=2022&COUNTRY_YR_ANIM=2022 (Accessed 01-22-2022)\n",
    "\n",
    "Variable definitions. International Database (IDB). https://www.census.gov/data/developers/data-sets/international-database.html (Accessed 01-22-2022)\n",
    "\n",
    "Release notes. International Database (IDB). https://www.census.gov/programs-surveys/international-programs/about/idb.html (Accessed 01-22-2022)\n",
    "\n",
    "Methodology. International Database (IDB). https://www2.census.gov/programs-surveys/international-programs/technical-documentation/methodology/idb-methodology.pdf (Accessed 01-22-2022)\n",
    "\n",
    "Census Data API Variables. International Database (IDB). https://api.census.gov/data/timeseries/idb/5year/variables.html (Accessed 01-22-2022)\n"
   ]
  }
 ],
 "metadata": {
  "kernelspec": {
   "display_name": "Python 3",
   "language": "python",
   "name": "python3"
  },
  "language_info": {
   "codemirror_mode": {
    "name": "ipython",
    "version": 3
   },
   "file_extension": ".py",
   "mimetype": "text/x-python",
   "name": "python",
   "nbconvert_exporter": "python",
   "pygments_lexer": "ipython3",
   "version": "3.8.8"
  }
 },
 "nbformat": 4,
 "nbformat_minor": 5
}
